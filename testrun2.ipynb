{
  "nbformat": 4,
  "nbformat_minor": 0,
  "metadata": {
    "colab": {
      "provenance": []
    },
    "kernelspec": {
      "name": "python3",
      "display_name": "Python 3"
    },
    "language_info": {
      "name": "python"
    }
  },
  "cells": [
    {
      "cell_type": "code",
      "source": [
        "import tensorflow as tf\n",
        "import numpy as np\n",
        "import matplotlib.pyplot as plt\n",
        "from skimage.color import rgb2gray"
      ],
      "metadata": {
        "id": "5PqRJmVPS5A0"
      },
      "execution_count": 7,
      "outputs": []
    },
    {
      "cell_type": "code",
      "source": [
        "import numpy as np\n",
        "import matplotlib.pyplot as plt\n",
        "\n",
        "def load_custom_fmnist_data(npz_path='custom_fmnist_bw.npz', convert_to_grayscale=False):\n",
        "    # Load the .npz file\n",
        "    data = np.load(npz_path)\n",
        "\n",
        "    # Extract training and testing data\n",
        "    train_images = data['train_images']\n",
        "    train_labels = data['train_labels']\n",
        "    test_images = data['test_images']\n",
        "    test_labels = data['test_labels']\n",
        "\n",
        "    # If convert_to_grayscale is False, we skip the grayscale conversion and work with the original image format\n",
        "    if convert_to_grayscale:\n",
        "        # Convert to grayscale using skimage's rgb2gray function (remove this block if you don't need grayscale)\n",
        "        train_images = np.array([rgb2gray(img) for img in train_images])\n",
        "        test_images = np.array([rgb2gray(img) for img in test_images])\n",
        "\n",
        "    # Normalize the images to [0, 1] by dividing by their maximum values\n",
        "    train_images = train_images.astype(np.float32)  # Ensure type is float for division\n",
        "    test_images = test_images.astype(np.float32)    # Ensure type is float for division\n",
        "\n",
        "    # Auto-normalize based on max value\n",
        "    train_images_max = np.max(train_images) if np.max(train_images) > 0 else 1  # Avoid division by zero\n",
        "    test_images_max = np.max(test_images) if np.max(test_images) > 0 else 1     # Avoid division by zero\n",
        "\n",
        "    train_images /= train_images_max\n",
        "    test_images /= test_images_max\n",
        "\n",
        "    # Return data in the same format as fashion_mnist.load_data()\n",
        "    return (train_images, train_labels), (test_images, test_labels)\n",
        "\n",
        "# Example usage: Load the data without converting to grayscale\n",
        "(train_images, train_labels), (test_images, test_labels) = load_custom_fmnist_data(convert_to_grayscale=False)\n",
        "\n",
        "# Check the shape of the data\n",
        "print(\"Train images shape:\", train_images.shape)  # Should retain original channels if RGB (e.g., (28, 28, 3))\n",
        "print(\"Train labels shape:\", train_labels.shape)\n",
        "print(\"Test images shape:\", test_images.shape)\n",
        "print(\"Test labels shape:\", test_labels.shape)\n",
        "\n",
        "# Check normalized values\n",
        "print(\"Train images normalized range:\", train_images.min(), \"to\", train_images.max())\n",
        "print(\"Test images normalized range:\", test_images.min(), \"to\", test_images.max())\n",
        "\n",
        "# Display one of the images (keep original color format)\n",
        "index = 8  # Index of the image you want to display\n",
        "plt.imshow(train_images[index])  # No need for 'cmap' as the image has color channels\n",
        "plt.title(f'Label: {train_labels[index]}')\n",
        "plt.colorbar()\n",
        "plt.show()\n"
      ],
      "metadata": {
        "colab": {
          "base_uri": "https://localhost:8080/",
          "height": 556
        },
        "id": "QugB4KDsfMW3",
        "outputId": "74cb0cd6-365e-4cbc-a265-91717379a2dd"
      },
      "execution_count": 1,
      "outputs": [
        {
          "output_type": "stream",
          "name": "stdout",
          "text": [
            "Train images shape: (24, 28, 28)\n",
            "Train labels shape: (24,)\n",
            "Test images shape: (12, 28, 28)\n",
            "Test labels shape: (12,)\n",
            "Train images normalized range: 0.0 to 1.0\n",
            "Test images normalized range: 0.0 to 1.0\n"
          ]
        },
        {
          "output_type": "display_data",
          "data": {
            "text/plain": [
              "<Figure size 640x480 with 2 Axes>"
            ],
            "image/png": "[encoded data removed]"
          },
          "metadata": {}
        }
      ]
    },
    {
      "cell_type": "markdown",
      "source": [
        "WITH NORMAL"
      ],
      "metadata": {
        "id": "1piCGLTNYWvX"
      }
    },
    {
      "cell_type": "code",
      "source": [
        "\n",
        "\n",
        "def load_custom_fmnist_data(npz_path='/content/custom_fmnist(1).npz', convert_to_grayscale=False):\n",
        "    # Load the .npz file\n",
        "    data = np.load(npz_path)\n",
        "\n",
        "    # Extract training and testing data\n",
        "    train_images = data['train_images']\n",
        "    train_labels = data['train_labels']\n",
        "    test_images = data['test_images']\n",
        "    test_labels = data['test_labels']\n",
        "\n",
        "    if convert_to_grayscale:\n",
        "        # Convert to grayscale using skimage's rgb2gray function\n",
        "        train_images = np.array([rgb2gray(img) for img in train_images])\n",
        "        test_images = np.array([rgb2gray(img) for img in test_images])\n",
        "\n",
        "    # Normalize the images to [0, 1] by dividing by their maximum values\n",
        "    train_images = train_images.astype(np.float32)  # Ensure type is float for division\n",
        "    test_images = test_images.astype(np.float32)    # Ensure type is float for division\n",
        "\n",
        "    # Auto-normalize based on max value\n",
        "    train_images_max = np.max(train_images) if np.max(train_images) > 0 else 1  # Avoid division by zero\n",
        "    test_images_max = np.max(test_images) if np.max(test_images) > 0 else 1      # Avoid division by zero\n",
        "\n",
        "    train_images /= train_images_max\n",
        "    test_images /= test_images_max\n",
        "\n",
        "    # Return data in the same format as fashion_mnist.load_data()\n",
        "    return (train_images, train_labels), (test_images, test_labels)\n",
        "\n",
        "# Example usage\n",
        "(train_images, train_labels), (test_images, test_labels) = load_custom_fmnist_data(convert_to_grayscale=True)\n",
        "\n",
        "# Check the shape of the data\n",
        "print(\"Train images shape:\", train_images.shape)\n",
        "print(\"Train labels shape:\", train_labels.shape)\n",
        "print(\"Test images shape:\", test_images.shape)\n",
        "print(\"Test labels shape:\", test_labels.shape)\n",
        "\n",
        "# Check normalized values\n",
        "print(\"Train images normalized range:\", train_images.min(), \"to\", train_images.max())\n",
        "print(\"Test images normalized range:\", test_images.min(), \"to\", test_images.max())\n",
        "\n",
        "index = 8  # Index of the image you want to display\n",
        "plt.imshow(train_images[index], cmap='gray')\n",
        "plt.title(f'Label: {train_labels[index]}')\n",
        "plt.colorbar()\n",
        "plt.show()\n"
      ],
      "metadata": {
        "colab": {
          "base_uri": "https://localhost:8080/",
          "height": 559
        },
        "id": "lbdw0m5FVv0w",
        "outputId": "385fa002-de0d-4743-83c3-a0cf279834e3"
      },
      "execution_count": null,
      "outputs": [
        {
          "output_type": "stream",
          "name": "stdout",
          "text": [
            "Train images shape: (12, 28, 28)\n",
            "Train labels shape: (12,)\n",
            "Test images shape: (6, 28, 28)\n",
            "Test labels shape: (6,)\n",
            "Train images normalized range: 0.026666667 to 1.0\n",
            "Test images normalized range: 0.07416666 to 1.0\n"
          ]
        },
        {
          "output_type": "display_data",
          "data": {
            "text/plain": [
              "<Figure size 640x480 with 2 Axes>"
            ],
            "image/png": "[encoded data removed]"
          },
          "metadata": {}
        }
      ]
    },
    {
      "cell_type": "markdown",
      "source": [
        "FIRST CONCEPT"
      ],
      "metadata": {
        "id": "NRrOTJkLYdYe"
      }
    },
    {
      "cell_type": "code",
      "execution_count": null,
      "metadata": {
        "colab": {
          "base_uri": "https://localhost:8080/"
        },
        "id": "LzzGCJgpSV59",
        "outputId": "15dfb09f-b2d7-4cb5-f09c-1e54cd35a327"
      },
      "outputs": [
        {
          "output_type": "stream",
          "name": "stdout",
          "text": [
            "Train images shape: (12, 28, 28)\n",
            "Train labels shape: (12,)\n",
            "Test images shape: (6, 28, 28)\n",
            "Test labels shape: (6,)\n"
          ]
        }
      ],
      "source": [
        "\n",
        "def load_custom_fmnist_data(npz_path='/content/custom_fmnist(1).npz', convert_to_grayscale=False):\n",
        "    # Load the .npz file\n",
        "    data = np.load(npz_path)\n",
        "\n",
        "    # Extract training and testing data\n",
        "    train_images = data['train_images']\n",
        "    train_labels = data['train_labels']\n",
        "    test_images = data['test_images']\n",
        "    test_labels = data['test_labels']\n",
        "\n",
        "    if convert_to_grayscale:\n",
        "        # Convert to grayscale using skimage's rgb2gray function\n",
        "        train_images = np.array([rgb2gray(img) for img in train_images])\n",
        "        test_images = np.array([rgb2gray(img) for img in test_images])\n",
        "\n",
        "    # Return data in the same format as fashion_mnist.load_data()\n",
        "    return (train_images, train_labels), (test_images, test_labels)\n",
        "\n",
        "# Example usage: simulate the behavior of tf.keras.datasets.fashion_mnist.load_data()\n",
        "(train_images, train_labels), (test_images, test_labels) = load_custom_fmnist_data(convert_to_grayscale=True)\n",
        "\n",
        "# Check the shape of the data\n",
        "print(\"Train images shape:\", train_images.shape)\n",
        "print(\"Train labels shape:\", train_labels.shape)\n",
        "print(\"Test images shape:\", test_images.shape)\n",
        "print(\"Test labels shape:\", test_labels.shape)\n"
      ]
    },
    {
      "cell_type": "markdown",
      "source": [
        "with picture"
      ],
      "metadata": {
        "id": "C93DR7lRYjb-"
      }
    },
    {
      "cell_type": "code",
      "source": [
        "\n",
        "\n",
        "def load_custom_fmnist_data(npz_path='/content/custom_fmnist(1).npz', convert_to_grayscale=False):\n",
        "    # Load the .npz file\n",
        "    data = np.load(npz_path)\n",
        "\n",
        "    # Extract training and testing data\n",
        "    train_images = data['train_images']\n",
        "    train_labels = data['train_labels']\n",
        "    test_images = data['test_images']\n",
        "    test_labels = data['test_labels']\n",
        "\n",
        "    if convert_to_grayscale:\n",
        "        # Convert to grayscale using skimage's rgb2gray function\n",
        "        train_images = np.array([rgb2gray(img) for img in train_images])\n",
        "        test_images = np.array([rgb2gray(img) for img in test_images])\n",
        "\n",
        "    # Return data in the same format as fashion_mnist.load_data()\n",
        "    return (train_images, train_labels), (test_images, test_labels)\n",
        "\n",
        "# Example usage: simulate the behavior of tf.keras.datasets.fashion_mnist.load_data()\n",
        "(train_images, train_labels), (test_images, test_labels) = load_custom_fmnist_data(convert_to_grayscale=True)\n",
        "\n",
        "# Check the shape of the data\n",
        "print(\"Train images shape:\", train_images.shape)\n",
        "print(\"Train labels shape:\", train_labels.shape)\n",
        "print(\"Test images shape:\", test_images.shape)\n",
        "print(\"Test labels shape:\", test_labels.shape)\n",
        "\n",
        "# Show an image (e.g., the first one in the training set)\n",
        "index = 8  # Index of the image you want to display\n",
        "plt.imshow(train_images[index], cmap='gray')\n",
        "plt.title(f'Label: {train_labels[index]}')\n",
        "plt.colorbar()\n",
        "plt.show()\n"
      ],
      "metadata": {
        "colab": {
          "base_uri": "https://localhost:8080/",
          "height": 524
        },
        "id": "kYvBf1JJh6hY",
        "outputId": "ad65c810-98b6-4402-f282-ecffdc538c9d"
      },
      "execution_count": null,
      "outputs": [
        {
          "output_type": "stream",
          "name": "stdout",
          "text": [
            "Train images shape: (12, 28, 28)\n",
            "Train labels shape: (12,)\n",
            "Test images shape: (6, 28, 28)\n",
            "Test labels shape: (6,)\n"
          ]
        },
        {
          "output_type": "display_data",
          "data": {
            "text/plain": [
              "<Figure size 640x480 with 2 Axes>"
            ],
            "image/png": "[encoded data removed]"
          },
          "metadata": {}
        }
      ]
    },
    {
      "cell_type": "code",
      "source": [
        "# You can put between 0 to 59999 here\n",
        "index = 11\n",
        "\n",
        "# Set number of characters per row when printing\n",
        "np.set_printoptions(linewidth=320)\n",
        "\n",
        "# Print the label and image\n",
        "print(f'LABEL: {train_labels[index]}')\n",
        "print(f'\\nIMAGE PIXEL ARRAY:\\n\\n{train_images[index]}\\n\\n')\n",
        "\n",
        "# Visualize the image using the default colormap (viridis)\n",
        "plt.imshow(train_images[index])\n",
        "plt.colorbar()\n",
        "plt.show()"
      ],
      "metadata": {
        "colab": {
          "base_uri": "https://localhost:8080/",
          "height": 1000
        },
        "id": "NQvft-nsSxZE",
        "outputId": "bd71086e-eae5-4009-8dee-20954e249e97"
      },
      "execution_count": 2,
      "outputs": [
        {
          "output_type": "stream",
          "name": "stdout",
          "text": [
            "LABEL: 0\n",
            "\n",
            "IMAGE PIXEL ARRAY:\n",
            "\n",
            "[[0.01176471 0.01176471 0.01176471 0.01176471 0.01176471 0.01176471 0.01176471 0.01176471 0.01176471 0.01176471 0.01176471 0.01176471 0.01176471 0.01176471 0.01176471 0.01176471 0.01176471 0.01176471 0.01176471 0.01176471 0.01176471 0.01176471 0.01176471 0.01176471 0.01176471 0.01176471 0.01176471 0.01176471]\n",
            " [0.01176471 0.01176471 0.01176471 0.01176471 0.01176471 0.01176471 0.01176471 0.01176471 0.01176471 0.01176471 0.01176471 0.01176471 0.01176471 0.01176471 0.01176471 0.01176471 0.01176471 0.01176471 0.01176471 0.01176471 0.01176471 0.01176471 0.01176471 0.01176471 0.01176471 0.01176471 0.01176471 0.01176471]\n",
            " [0.01176471 0.01176471 0.01176471 0.01176471 0.01176471 0.01176471 0.01176471 0.01176471 0.01176471 0.01176471 0.01176471 0.01176471 0.01176471 0.01176471 0.01176471 0.00784314 0.00392157 0.01176471 0.01176471 0.01176471 0.01176471 0.01176471 0.01176471 0.01176471 0.01176471 0.01176471 0.01176471 0.01176471]\n",
            " [0.01176471 0.01176471 0.01176471 0.01176471 0.01176471 0.01176471 0.01176471 0.01176471 0.01176471 0.01176471 0.01176471 0.01176471 0.01176471 0.01176471 0.00784314 0.01960784 0.07058824 0.01568628 0.01176471 0.01176471 0.01176471 0.01176471 0.01176471 0.01176471 0.01176471 0.01176471 0.01176471 0.01176471]\n",
            " [0.01176471 0.01176471 0.01176471 0.01176471 0.01176471 0.01176471 0.01176471 0.01176471 0.01176471 0.01176471 0.00784314 0.00784314 0.01176471 0.00392157 0.03921569 0.3764706  0.5686275  0.0627451  0.00392157 0.01176471 0.01176471 0.01176471 0.01176471 0.01176471 0.01176471 0.01176471 0.01176471 0.01176471]\n",
            " [0.01176471 0.01176471 0.01176471 0.01176471 0.01176471 0.01176471 0.01176471 0.01176471 0.00392157 0.         0.01568628 0.02745098 0.01568628 0.05882353 0.11764706 0.4862745  0.2627451  0.00784314 0.01176471 0.01176471 0.01176471 0.01176471 0.01176471 0.01176471 0.01176471 0.01176471 0.01176471 0.01176471]\n",
            " [0.01176471 0.01176471 0.01176471 0.01176471 0.01176471 0.01176471 0.01176471 0.         0.05098039 0.20392157 0.3137255  0.42745098 0.2627451  0.03137255 0.01176471 0.18431373 0.05882353 0.00392157 0.01176471 0.01176471 0.01176471 0.01176471 0.01176471 0.01176471 0.01176471 0.01176471 0.01176471 0.01176471]\n",
            " [0.01176471 0.01176471 0.01176471 0.01176471 0.01176471 0.00784314 0.         0.12941177 0.3529412  0.4509804  0.54901963 0.47843137 0.29803923 0.01176471 0.07450981 0.10588235 0.09019608 0.00392157 0.01176471 0.01176471 0.01176471 0.01176471 0.01176471 0.01176471 0.01176471 0.01176471 0.01176471 0.01176471]\n",
            " [0.01176471 0.01176471 0.01176471 0.01176471 0.01176471 0.00784314 0.20784314 0.41568628 0.46666667 0.56078434 0.5019608  0.37254903 0.22352941 0.01960784 0.1254902  0.03921569 0.12156863 0.00392157 0.01176471 0.01176471 0.01176471 0.01176471 0.01176471 0.01176471 0.01176471 0.01176471 0.01176471 0.01176471]\n",
            " [0.01176471 0.01176471 0.01176471 0.01176471 0.         0.16470589 0.44313726 0.4627451  0.5647059  0.5411765  0.35686275 0.23529412 0.05882353 0.08627451 0.07843138 0.01568628 0.12941177 0.00784314 0.01176471 0.01176471 0.01176471 0.01176471 0.01176471 0.01176471 0.01176471 0.01176471 0.01176471 0.01176471]\n",
            " [0.01176471 0.01176471 0.01176471 0.01176471 0.00784314 0.3137255  0.47843137 0.5529412  0.5568628  0.4        0.27450982 0.10980392 0.00784314 0.13725491 0.01568628 0.01176471 0.12941177 0.01568628 0.01176471 0.01176471 0.01176471 0.01176471 0.01176471 0.01176471 0.01176471 0.01176471 0.01176471 0.01176471]\n",
            " [0.01176471 0.01176471 0.01176471 0.00784314 0.02352941 0.39215687 0.5411765  0.5686275  0.4509804  0.42745098 0.29411766 0.02745098 0.07058824 0.09411765 0.00392157 0.00784314 0.1254902  0.02352941 0.01176471 0.01176471 0.01176471 0.01176471 0.01176471 0.01176471 0.01176471 0.01176471 0.01176471 0.01176471]\n",
            " [0.01176471 0.01176471 0.01176471 0.00784314 0.04313726 0.45490196 0.54901963 0.43137255 0.40392157 0.30980393 0.05098039 0.         0.1254902  0.03137255 0.01176471 0.00392157 0.11372549 0.03529412 0.00784314 0.01176471 0.01176471 0.01176471 0.01176471 0.01176471 0.01176471 0.01176471 0.01176471 0.01176471]\n",
            " [0.01176471 0.01176471 0.01176471 0.00784314 0.03529412 0.45882353 0.40784314 0.21176471 0.09019608 0.00392157 0.00392157 0.03921569 0.12156863 0.00392157 0.01176471 0.00392157 0.10196079 0.0627451  0.00784314 0.01176471 0.01176471 0.01176471 0.01176471 0.01176471 0.01176471 0.01176471 0.01176471 0.01176471]\n",
            " [0.01176471 0.01176471 0.01176471 0.00784314 0.05882353 0.2509804  0.05098039 0.         0.         0.         0.         0.10196079 0.08235294 0.00392157 0.01176471 0.00392157 0.07058824 0.11372549 0.         0.         0.         0.00784314 0.01176471 0.01176471 0.01176471 0.01176471 0.01176471 0.01176471]\n",
            " [0.01176471 0.01176471 0.01176471 0.01176471 0.02745098 0.01568628 0.         0.05098039 0.15294118 0.19607843 0.09019608 0.18039216 0.02352941 0.         0.         0.01176471 0.09019608 0.2784314  0.27450982 0.3019608  0.21960784 0.01960784 0.00392157 0.01176471 0.01176471 0.01176471 0.01176471 0.01176471]\n",
            " [0.01176471 0.01176471 0.01176471 0.01176471 0.01176471 0.         0.09019608 0.38039216 0.25490198 0.42352942 0.4862745  0.44313726 0.25882354 0.08235294 0.10588235 0.38431373 0.48235294 0.46666667 0.39215687 0.39215687 0.6666667  0.48235294 0.02745098 0.00784314 0.01176471 0.01176471 0.01176471 0.01176471]\n",
            " [0.01176471 0.01176471 0.01176471 0.01176471 0.01176471 0.01176471 0.41568628 0.27450982 0.2509804  0.4        0.49411765 0.5137255  0.38431373 0.46666667 0.3529412  0.16470589 0.2509804  0.44313726 0.63529414 0.7411765  0.78039217 0.79607844 0.27058825 0.         0.01176471 0.01176471 0.01176471 0.01176471]\n",
            " [0.01176471 0.01176471 0.01176471 0.01176471 0.         0.09411765 0.627451   0.6039216  0.6392157  0.6862745  0.7372549  0.75686276 0.7254902  0.7411765  0.50980395 0.29803923 0.5019608  0.70980394 0.7882353  0.78039217 0.8117647  0.7607843  0.39215687 0.         0.01176471 0.01176471 0.01176471 0.01176471]\n",
            " [0.01176471 0.01176471 0.01176471 0.01176471 0.         0.12156863 0.7019608  0.78039217 0.7921569  0.7921569  0.78039217 0.7921569  0.79607844 0.7921569  0.67058825 0.6627451  0.7607843  0.7921569  0.7764706  0.80784315 0.7921569  0.7137255  0.3764706  0.         0.01176471 0.01176471 0.01176471 0.01176471]\n",
            " [0.01176471 0.01176471 0.01176471 0.01176471 0.00784314 0.03137255 0.53333336 0.8        0.78431374 0.7882353  0.79607844 0.79607844 0.78431374 0.62352943 0.6117647  0.7882353  0.7921569  0.7882353  0.7921569  0.78039217 0.7411765  0.6901961  0.1764706  0.         0.01176471 0.01176471 0.01176471 0.01176471]\n",
            " [0.01176471 0.01176471 0.01176471 0.01176471 0.01176471 0.         0.14901961 0.6        0.7490196  0.78431374 0.75686276 0.7411765  0.65882355 0.24705882 0.1254902  0.5764706  0.76862746 0.76862746 0.7607843  0.7529412  0.6392157  0.27058825 0.         0.01176471 0.01176471 0.01176471 0.01176471 0.01176471]\n",
            " [0.01176471 0.01176471 0.01176471 0.01176471 0.01176471 0.01176471 0.00392157 0.07450981 0.30980393 0.5254902  0.56078434 0.48235294 0.28235295 0.15686275 0.16862746 0.24705882 0.44705883 0.5529412  0.52156866 0.3764706  0.16470589 0.03529412 0.02352941 0.01176471 0.01176471 0.01176471 0.01176471 0.01176471]\n",
            " [0.01176471 0.01176471 0.01176471 0.01176471 0.01176471 0.01176471 0.01176471 0.01176471 0.00784314 0.01960784 0.03137255 0.02745098 0.03529412 0.05098039 0.05882353 0.05882353 0.05490196 0.05490196 0.05098039 0.03529412 0.03137255 0.02352941 0.01568628 0.01176471 0.01176471 0.01176471 0.01176471 0.01176471]\n",
            " [0.01176471 0.01176471 0.01176471 0.01176471 0.01176471 0.01176471 0.01176471 0.01176471 0.01176471 0.00784314 0.00784314 0.00784314 0.00784314 0.00784314 0.00784314 0.00392157 0.00392157 0.00392157 0.00392157 0.00784314 0.00784314 0.01176471 0.01176471 0.01176471 0.01176471 0.01176471 0.01176471 0.01176471]\n",
            " [0.01176471 0.01176471 0.01176471 0.01176471 0.01176471 0.01176471 0.01176471 0.01176471 0.01176471 0.01176471 0.01176471 0.01176471 0.01176471 0.01176471 0.01176471 0.01176471 0.01176471 0.01176471 0.01176471 0.01176471 0.01176471 0.01176471 0.01176471 0.01176471 0.01176471 0.01176471 0.01176471 0.01176471]\n",
            " [0.01176471 0.01176471 0.01176471 0.01176471 0.01176471 0.01176471 0.01176471 0.01176471 0.01176471 0.01176471 0.01176471 0.01176471 0.01176471 0.01176471 0.01176471 0.01176471 0.01176471 0.01176471 0.01176471 0.01176471 0.01176471 0.01176471 0.01176471 0.01176471 0.01176471 0.01176471 0.01176471 0.01176471]\n",
            " [0.01176471 0.01176471 0.01176471 0.01176471 0.01176471 0.01176471 0.01176471 0.01176471 0.01176471 0.01176471 0.01176471 0.01176471 0.01176471 0.01176471 0.01176471 0.01176471 0.01176471 0.01176471 0.01176471 0.01176471 0.01176471 0.01176471 0.01176471 0.01176471 0.01176471 0.01176471 0.01176471 0.01176471]]\n",
            "\n",
            "\n"
          ]
        },
        {
          "output_type": "display_data",
          "data": {
            "text/plain": [
              "<Figure size 640x480 with 2 Axes>"
            ],
            "image/png": "[encoded data removed]"
          },
          "metadata": {}
        }
      ]
    },
    {
      "cell_type": "code",
      "source": [
        "import numpy as np\n",
        "import matplotlib.pyplot as plt\n",
        "\n",
        "# Assuming train_labels and train_images are already defined\n",
        "# You can put between 0 to 59999 here\n",
        "index = 10\n",
        "\n",
        "# Set number of characters per row when printing\n",
        "np.set_printoptions(linewidth=320)\n",
        "\n",
        "# Print the label and image pixel array\n",
        "print(f'LABEL: {train_labels[index]}')\n",
        "print(f'\\nIMAGE PIXEL ARRAY:\\n\\n{train_images[index]}\\n\\n')\n",
        "\n",
        "# Save the pixel array to a file\n",
        "pixel_array = train_images[index]  # Get the pixel array\n",
        "np.save('pixel_array.npy', pixel_array)  # Save as a .npy file\n",
        "print(\"Pixel array saved as 'pixel_array.npy'.\")\n",
        "\n",
        "# Load the pixel array from the file\n",
        "loaded_pixel_array = np.load('pixel_array.npy')\n",
        "\n",
        "# Convert the loaded pixel array to a 2D array if necessary\n",
        "image_size = 28  # Change this to your image dimensions if needed\n",
        "reshaped_array = loaded_pixel_array.reshape((image_size, image_size))\n",
        "\n",
        "# Visualize the loaded pixel array as a heatmap\n",
        "plt.figure(figsize=(8, 8))  # Set the size of the figure\n",
        "plt.imshow(reshaped_array, cmap='viridis')  # Use the viridis colormap\n",
        "plt.colorbar()  # Show color scale\n",
        "plt.title(f'Heatmap for Label: {train_labels[index]}')  # Title with label\n",
        "plt.axis('off')  # Turn off axis labels\n",
        "plt.show()\n"
      ],
      "metadata": {
        "colab": {
          "base_uri": "https://localhost:8080/",
          "height": 1000
        },
        "id": "yOxIcJp_Tt4j",
        "outputId": "414564c0-5810-401a-9c88-374da6aa2ea8"
      },
      "execution_count": 3,
      "outputs": [
        {
          "output_type": "stream",
          "name": "stdout",
          "text": [
            "LABEL: 0\n",
            "\n",
            "IMAGE PIXEL ARRAY:\n",
            "\n",
            "[[0.9882353  0.9882353  0.9882353  0.9882353  0.9882353  0.9882353  0.9882353  0.9882353  0.9882353  0.9882353  0.9882353  0.9882353  0.9882353  0.9882353  0.9882353  0.9882353  0.9882353  0.9882353  0.9882353  0.9882353  0.9882353  0.9882353  0.9882353  0.9882353  0.9882353  0.9882353  0.9882353  0.9882353 ]\n",
            " [0.9882353  0.9882353  0.9882353  0.9882353  0.9882353  0.9882353  0.9882353  0.9882353  0.9882353  0.9882353  0.9882353  0.9882353  0.9882353  0.9882353  0.9882353  0.9882353  0.9882353  0.9882353  0.9882353  0.9882353  0.9882353  0.9882353  0.9882353  0.9882353  0.9882353  0.9882353  0.9882353  0.9882353 ]\n",
            " [0.9882353  0.9882353  0.9882353  0.9882353  0.9882353  0.9882353  0.9882353  0.9882353  0.9882353  0.9882353  0.9882353  0.9882353  0.9882353  0.9882353  0.9882353  0.99215686 0.99607843 0.9882353  0.9882353  0.9882353  0.9882353  0.9882353  0.9882353  0.9882353  0.9882353  0.9882353  0.9882353  0.9882353 ]\n",
            " [0.9882353  0.9882353  0.9882353  0.9882353  0.9882353  0.9882353  0.9882353  0.9882353  0.9882353  0.9882353  0.9882353  0.9882353  0.9882353  0.9882353  0.99215686 0.98039216 0.92941177 0.9843137  0.9882353  0.9882353  0.9882353  0.9882353  0.9882353  0.9882353  0.9882353  0.9882353  0.9882353  0.9882353 ]\n",
            " [0.9882353  0.9882353  0.9882353  0.9882353  0.9882353  0.9882353  0.9882353  0.9882353  0.9882353  0.9882353  0.99215686 0.99215686 0.9882353  0.99607843 0.9607843  0.62352943 0.43137255 0.9372549  0.99607843 0.9882353  0.9882353  0.9882353  0.9882353  0.9882353  0.9882353  0.9882353  0.9882353  0.9882353 ]\n",
            " [0.9882353  0.9882353  0.9882353  0.9882353  0.9882353  0.9882353  0.9882353  0.9882353  0.99607843 1.         0.9843137  0.972549   0.9843137  0.9411765  0.88235295 0.5137255  0.7372549  0.99215686 0.9882353  0.9882353  0.9882353  0.9882353  0.9882353  0.9882353  0.9882353  0.9882353  0.9882353  0.9882353 ]\n",
            " [0.9882353  0.9882353  0.9882353  0.9882353  0.9882353  0.9882353  0.9882353  1.         0.9490196  0.79607844 0.6862745  0.57254905 0.7372549  0.96862745 0.9882353  0.8156863  0.9411765  0.99607843 0.9882353  0.9882353  0.9882353  0.9882353  0.9882353  0.9882353  0.9882353  0.9882353  0.9882353  0.9882353 ]\n",
            " [0.9882353  0.9882353  0.9882353  0.9882353  0.9882353  0.99215686 1.         0.87058824 0.64705884 0.54901963 0.4509804  0.52156866 0.7019608  0.9882353  0.9254902  0.89411765 0.9098039  0.99607843 0.9882353  0.9882353  0.9882353  0.9882353  0.9882353  0.9882353  0.9882353  0.9882353  0.9882353  0.9882353 ]\n",
            " [0.9882353  0.9882353  0.9882353  0.9882353  0.9882353  0.99215686 0.7921569  0.58431375 0.53333336 0.4392157  0.49803922 0.627451   0.7764706  0.98039216 0.8745098  0.9607843  0.8784314  0.99607843 0.9882353  0.9882353  0.9882353  0.9882353  0.9882353  0.9882353  0.9882353  0.9882353  0.9882353  0.9882353 ]\n",
            " [0.9882353  0.9882353  0.9882353  0.9882353  1.         0.8352941  0.5568628  0.5372549  0.43529412 0.45882353 0.6431373  0.7647059  0.9411765  0.9137255  0.92156863 0.9843137  0.87058824 0.99215686 0.9882353  0.9882353  0.9882353  0.9882353  0.9882353  0.9882353  0.9882353  0.9882353  0.9882353  0.9882353 ]\n",
            " [0.9882353  0.9882353  0.9882353  0.9882353  0.99215686 0.6862745  0.52156866 0.44705883 0.44313726 0.6        0.7254902  0.8901961  0.99215686 0.8627451  0.9843137  0.9882353  0.87058824 0.9843137  0.9882353  0.9882353  0.9882353  0.9882353  0.9882353  0.9882353  0.9882353  0.9882353  0.9882353  0.9882353 ]\n",
            " [0.9882353  0.9882353  0.9882353  0.99215686 0.9764706  0.60784316 0.45882353 0.43137255 0.54901963 0.57254905 0.7058824  0.972549   0.92941177 0.90588236 0.99607843 0.99215686 0.8745098  0.9764706  0.9882353  0.9882353  0.9882353  0.9882353  0.9882353  0.9882353  0.9882353  0.9882353  0.9882353  0.9882353 ]\n",
            " [0.9882353  0.9882353  0.9882353  0.99215686 0.95686275 0.54509807 0.4509804  0.5686275  0.59607846 0.6901961  0.9490196  1.         0.8745098  0.96862745 0.9882353  0.99607843 0.8862745  0.9647059  0.99215686 0.9882353  0.9882353  0.9882353  0.9882353  0.9882353  0.9882353  0.9882353  0.9882353  0.9882353 ]\n",
            " [0.9882353  0.9882353  0.9882353  0.99215686 0.9647059  0.5411765  0.5921569  0.7882353  0.9098039  0.99607843 0.99607843 0.9607843  0.8784314  0.99607843 0.9882353  0.99607843 0.8980392  0.9372549  0.99215686 0.9882353  0.9882353  0.9882353  0.9882353  0.9882353  0.9882353  0.9882353  0.9882353  0.9882353 ]\n",
            " [0.9882353  0.9882353  0.9882353  0.99215686 0.9411765  0.7490196  0.9490196  1.         1.         1.         1.         0.8980392  0.91764706 0.99607843 0.9882353  0.99607843 0.92941177 0.8862745  1.         1.         1.         0.99215686 0.9882353  0.9882353  0.9882353  0.9882353  0.9882353  0.9882353 ]\n",
            " [0.9882353  0.9882353  0.9882353  0.9882353  0.972549   0.9843137  1.         0.9490196  0.84705883 0.8039216  0.9098039  0.81960785 0.9764706  1.         1.         0.9882353  0.9098039  0.72156864 0.7254902  0.69803923 0.78039217 0.98039216 0.99607843 0.9882353  0.9882353  0.9882353  0.9882353  0.9882353 ]\n",
            " [0.9882353  0.9882353  0.9882353  0.9882353  0.9882353  1.         0.9098039  0.61960787 0.74509805 0.5764706  0.5137255  0.5568628  0.7411765  0.91764706 0.89411765 0.6156863  0.5176471  0.53333336 0.60784316 0.60784316 0.33333334 0.5176471  0.972549   0.99215686 0.9882353  0.9882353  0.9882353  0.9882353 ]\n",
            " [0.9882353  0.9882353  0.9882353  0.9882353  0.9882353  0.9882353  0.58431375 0.7254902  0.7490196  0.6        0.5058824  0.4862745  0.6156863  0.53333336 0.64705884 0.8352941  0.7490196  0.5568628  0.3647059  0.25882354 0.21960784 0.20392157 0.7294118  1.         0.9882353  0.9882353  0.9882353  0.9882353 ]\n",
            " [0.9882353  0.9882353  0.9882353  0.9882353  1.         0.90588236 0.37254903 0.39607844 0.36078432 0.3137255  0.2627451  0.24313726 0.27450982 0.25882354 0.49019608 0.7019608  0.49803922 0.2901961  0.21176471 0.21960784 0.1882353  0.23921569 0.60784316 1.         0.9882353  0.9882353  0.9882353  0.9882353 ]\n",
            " [0.9882353  0.9882353  0.9882353  0.9882353  1.         0.8784314  0.29803923 0.21960784 0.20784314 0.20784314 0.21960784 0.20784314 0.20392157 0.20784314 0.32941177 0.3372549  0.23921569 0.20784314 0.22352941 0.19215687 0.20784314 0.28627452 0.62352943 1.         0.9882353  0.9882353  0.9882353  0.9882353 ]\n",
            " [0.9882353  0.9882353  0.9882353  0.9882353  0.99215686 0.96862745 0.46666667 0.2        0.21568628 0.21176471 0.20392157 0.20392157 0.21568628 0.3764706  0.3882353  0.21176471 0.20784314 0.21176471 0.20784314 0.21960784 0.25882354 0.30980393 0.8235294  1.         0.9882353  0.9882353  0.9882353  0.9882353 ]\n",
            " [0.9882353  0.9882353  0.9882353  0.9882353  0.9882353  1.         0.8509804  0.4        0.2509804  0.21568628 0.24313726 0.25882354 0.34117648 0.7529412  0.8745098  0.42352942 0.23137255 0.23137255 0.23921569 0.24705882 0.36078432 0.7294118  1.         0.9882353  0.9882353  0.9882353  0.9882353  0.9882353 ]\n",
            " [0.9882353  0.9882353  0.9882353  0.9882353  0.9882353  0.9882353  0.99607843 0.9254902  0.6901961  0.4745098  0.4392157  0.5176471  0.7176471  0.84313726 0.83137256 0.7529412  0.5529412  0.44705883 0.47843137 0.62352943 0.8352941  0.9647059  0.9764706  0.9882353  0.9882353  0.9882353  0.9882353  0.9882353 ]\n",
            " [0.9882353  0.9882353  0.9882353  0.9882353  0.9882353  0.9882353  0.9882353  0.9882353  0.99215686 0.98039216 0.96862745 0.972549   0.9647059  0.9490196  0.9411765  0.9411765  0.94509804 0.94509804 0.9490196  0.9647059  0.96862745 0.9764706  0.9843137  0.9882353  0.9882353  0.9882353  0.9882353  0.9882353 ]\n",
            " [0.9882353  0.9882353  0.9882353  0.9882353  0.9882353  0.9882353  0.9882353  0.9882353  0.9882353  0.99215686 0.99215686 0.99215686 0.99215686 0.99215686 0.99215686 0.99607843 0.99607843 0.99607843 0.99607843 0.99215686 0.99215686 0.9882353  0.9882353  0.9882353  0.9882353  0.9882353  0.9882353  0.9882353 ]\n",
            " [0.9882353  0.9882353  0.9882353  0.9882353  0.9882353  0.9882353  0.9882353  0.9882353  0.9882353  0.9882353  0.9882353  0.9882353  0.9882353  0.9882353  0.9882353  0.9882353  0.9882353  0.9882353  0.9882353  0.9882353  0.9882353  0.9882353  0.9882353  0.9882353  0.9882353  0.9882353  0.9882353  0.9882353 ]\n",
            " [0.9882353  0.9882353  0.9882353  0.9882353  0.9882353  0.9882353  0.9882353  0.9882353  0.9882353  0.9882353  0.9882353  0.9882353  0.9882353  0.9882353  0.9882353  0.9882353  0.9882353  0.9882353  0.9882353  0.9882353  0.9882353  0.9882353  0.9882353  0.9882353  0.9882353  0.9882353  0.9882353  0.9882353 ]\n",
            " [0.9882353  0.9882353  0.9882353  0.9882353  0.9882353  0.9882353  0.9882353  0.9882353  0.9882353  0.9882353  0.9882353  0.9882353  0.9882353  0.9882353  0.9882353  0.9882353  0.9882353  0.9882353  0.9882353  0.9882353  0.9882353  0.9882353  0.9882353  0.9882353  0.9882353  0.9882353  0.9882353  0.9882353 ]]\n",
            "\n",
            "\n",
            "Pixel array saved as 'pixel_array.npy'.\n"
          ]
        },
        {
          "output_type": "display_data",
          "data": {
            "text/plain": [
              "<Figure size 800x800 with 2 Axes>"
            ],
            "image/png": "[encoded data removed]"
          },
          "metadata": {}
        }
      ]
    },
    {
      "cell_type": "code",
      "source": [
        "import numpy as np\n",
        "import matplotlib.pyplot as plt\n",
        "\n",
        "# Assuming train_labels and train_images are already defined\n",
        "# You can put between 0 to 59999 here\n",
        "index = 7\n",
        "\n",
        "# Set number of characters per row when printing\n",
        "np.set_printoptions(linewidth=320)\n",
        "\n",
        "# Print the label and image pixel array\n",
        "print(f'LABEL: {train_labels[index]}')\n",
        "print(f'\\nIMAGE PIXEL ARRAY:\\n\\n{train_images[index]}\\n\\n')\n",
        "\n",
        "# Save the pixel array as a variable\n",
        "pixel_array = train_images[index]  # Get the pixel array\n",
        "\n",
        "# Convert the pixel array to a 2D array if necessary\n",
        "image_size = 28  # Change this to your image dimensions if needed\n",
        "reshaped_array = pixel_array.reshape((image_size, image_size))\n",
        "\n",
        "# Now you have the pixel array saved in the variable reshaped_array\n",
        "# Visualize the reshaped pixel array as a heatmap\n",
        "plt.figure(figsize=(8, 8))  # Set the size of the figure\n",
        "plt.imshow(reshaped_array, cmap='viridis')  # Use the viridis colormap\n",
        "plt.colorbar()  # Show color scale\n",
        "plt.title(f'Heatmap for Label: {train_labels[index]}')  # Title with label\n",
        "plt.axis('off')  # Turn off axis labels\n",
        "plt.show()\n"
      ],
      "metadata": {
        "colab": {
          "base_uri": "https://localhost:8080/",
          "height": 1000
        },
        "id": "IneE0X76UjYn",
        "outputId": "19f321b6-7e74-4330-fa0e-5e4195d7a43f"
      },
      "execution_count": 4,
      "outputs": [
        {
          "output_type": "stream",
          "name": "stdout",
          "text": [
            "LABEL: 0\n",
            "\n",
            "IMAGE PIXEL ARRAY:\n",
            "\n",
            "[[0.         0.         0.         0.         0.         0.         0.         0.         0.         0.         0.         0.         0.         0.         0.         0.         0.         0.         0.         0.         0.         0.         0.         0.         0.         0.         0.         0.        ]\n",
            " [0.         0.         0.         0.         0.         0.         0.         0.         0.         0.         0.         0.         0.         0.         0.         0.         0.         0.         0.         0.         0.         0.         0.         0.         0.         0.         0.         0.        ]\n",
            " [0.         0.         0.         0.         0.         0.         0.         0.         0.         0.         0.         0.         0.07058824 0.3882353  0.06666667 0.         0.         0.         0.         0.         0.         0.         0.         0.         0.         0.         0.         0.        ]\n",
            " [0.         0.         0.         0.         0.         0.         0.         0.         0.         0.         0.         0.01960784 0.21960784 0.7058824  0.16862746 0.01568628 0.03137255 0.         0.         0.         0.         0.         0.         0.         0.         0.         0.         0.        ]\n",
            " [0.         0.         0.         0.         0.         0.         0.         0.         0.         0.03921569 0.38039216 0.48235294 0.3529412  0.5058824  0.1882353  0.2901961  0.35686275 0.32156864 0.09019608 0.         0.         0.         0.         0.         0.         0.         0.         0.        ]\n",
            " [0.         0.         0.         0.         0.         0.         0.         0.         0.         0.31764707 0.6313726  0.4627451  0.41960785 0.4862745  0.5058824  0.45882353 0.38431373 0.4627451  0.44705883 0.07450981 0.         0.         0.         0.         0.         0.         0.         0.        ]\n",
            " [0.         0.         0.         0.         0.         0.         0.         0.         0.02745098 0.4745098  0.5411765  0.43137255 0.4862745  0.4745098  0.5921569  0.60784316 0.42745098 0.44705883 0.5294118  0.37254903 0.00392157 0.         0.         0.         0.         0.         0.         0.        ]\n",
            " [0.         0.         0.         0.         0.         0.         0.         0.         0.09019608 0.5254902  0.5058824  0.50980395 0.49803922 0.3372549  0.5529412  0.60784316 0.53333336 0.4392157  0.52156866 0.57254905 0.14509805 0.         0.         0.         0.         0.         0.         0.        ]\n",
            " [0.         0.         0.         0.         0.         0.         0.         0.         0.12156863 0.5058824  0.5411765  0.54509807 0.35686275 0.20392157 0.42352942 0.57254905 0.5647059  0.50980395 0.52156866 0.627451   0.4        0.         0.         0.         0.         0.         0.         0.        ]\n",
            " [0.         0.         0.         0.         0.         0.         0.         0.         0.10980392 0.49019608 0.6117647  0.29411766 0.26666668 0.10980392 0.23137255 0.38431373 0.56078434 0.5372549  0.49803922 0.5686275  0.5686275  0.04705882 0.         0.         0.         0.         0.         0.        ]\n",
            " [0.         0.         0.         0.         0.         0.         0.         0.         0.07450981 0.5294118  0.28627452 0.08627451 0.23137255 0.02352941 0.2509804  0.03529412 0.36078432 0.5411765  0.5176471  0.49803922 0.5921569  0.27450982 0.         0.         0.         0.         0.         0.        ]\n",
            " [0.         0.         0.         0.         0.         0.         0.         0.         0.03921569 0.16862746 0.         0.20784314 0.12156863 0.         0.26666668 0.02745098 0.00392157 0.16470589 0.3372549  0.4117647  0.45490196 0.4745098  0.05490196 0.         0.         0.         0.         0.        ]\n",
            " [0.         0.         0.         0.         0.         0.         0.         0.         0.         0.         0.00392157 0.28627452 0.02352941 0.         0.18039216 0.12941177 0.         0.         0.         0.01960784 0.03921569 0.06666667 0.02745098 0.         0.         0.         0.         0.        ]\n",
            " [0.         0.         0.         0.         0.         0.         0.         0.         0.         0.         0.08235294 0.24313726 0.         0.         0.06666667 0.24705882 0.         0.         0.         0.         0.         0.         0.         0.         0.         0.         0.         0.        ]\n",
            " [0.         0.         0.         0.         0.         0.03529412 0.34901962 0.41960785 0.46666667 0.2784314  0.34117648 0.12941177 0.         0.         0.         0.29803923 0.03137255 0.         0.         0.         0.         0.         0.         0.         0.         0.         0.         0.        ]\n",
            " [0.         0.         0.         0.         0.01568628 0.5058824  0.44705883 0.24705882 0.48235294 0.6627451  0.61960787 0.5058824  0.25490198 0.02352941 0.         0.20392157 0.2627451  0.26666668 0.34901962 0.4117647  0.25490198 0.         0.         0.         0.         0.         0.         0.        ]\n",
            " [0.         0.         0.         0.         0.24313726 0.72156864 0.24313726 0.15294118 0.14901961 0.3882353  0.72156864 0.75686276 0.7294118  0.5294118  0.30588236 0.44705883 0.56078434 0.58431375 0.6        0.78431374 0.81960785 0.23137255 0.         0.         0.         0.         0.         0.        ]\n",
            " [0.         0.         0.         0.         0.42745098 0.8156863  0.6156863  0.3764706  0.4392157  0.75686276 0.8352941  0.7921569  0.7176471  0.5529412  0.23137255 0.5764706  0.76862746 0.7647059  0.77254903 0.64705884 0.64705884 0.6156863  0.00784314 0.         0.         0.         0.         0.        ]\n",
            " [0.         0.         0.         0.         0.46666667 0.81960785 0.8156863  0.7764706  0.81960785 0.8509804  0.85882354 0.8156863  0.78039217 0.39215687 0.4        0.75686276 0.8509804  0.74509805 0.39607844 0.2509804  0.32941177 0.7176471  0.08627451 0.         0.         0.         0.         0.        ]\n",
            " [0.         0.         0.         0.         0.4        0.79607844 0.7882353  0.81960785 0.85490197 0.8666667  0.8666667  0.84705883 0.79607844 0.7254902  0.80784315 0.8392157  0.84313726 0.78431374 0.36862746 0.27058825 0.44313726 0.74509805 0.11372549 0.         0.         0.         0.         0.        ]\n",
            " [0.         0.         0.         0.         0.23137255 0.77254903 0.77254903 0.8117647  0.8627451  0.88235295 0.88235295 0.8784314  0.8117647  0.81960785 0.8392157  0.8509804  0.85490197 0.8392157  0.6901961  0.6666667  0.77254903 0.7019608  0.04705882 0.         0.         0.         0.         0.        ]\n",
            " [0.         0.         0.         0.         0.04313726 0.654902   0.7921569  0.81960785 0.8745098  0.89411765 0.8901961  0.89411765 0.8509804  0.81960785 0.8352941  0.8666667  0.8666667  0.8509804  0.8352941  0.8039216  0.8117647  0.54901963 0.         0.         0.         0.         0.         0.        ]\n",
            " [0.         0.         0.         0.         0.         0.28627452 0.81960785 0.8509804  0.88235295 0.89411765 0.8862745  0.8784314  0.57254905 0.59607846 0.85882354 0.8745098  0.8901961  0.87058824 0.8235294  0.7882353  0.80784315 0.27450982 0.         0.         0.         0.         0.         0.        ]\n",
            " [0.         0.         0.         0.         0.         0.         0.3764706  0.78039217 0.8745098  0.8784314  0.83137256 0.64705884 0.31764707 0.2627451  0.67058825 0.89411765 0.9019608  0.8784314  0.8235294  0.827451   0.6117647  0.04705882 0.01568628 0.00392157 0.         0.         0.         0.        ]\n",
            " [0.         0.         0.         0.         0.         0.         0.03137255 0.16078432 0.29803923 0.34901962 0.3137255  0.24705882 0.18431373 0.10196079 0.16078432 0.59607846 0.84313726 0.8627451  0.8235294  0.7372549  0.40784314 0.23137255 0.13725491 0.05882353 0.01176471 0.         0.         0.        ]\n",
            " [0.         0.         0.         0.         0.         0.         0.         0.         0.         0.         0.         0.         0.         0.         0.01960784 0.10588235 0.2509804  0.3372549  0.32941177 0.2627451  0.2        0.13725491 0.07058824 0.02745098 0.00392157 0.         0.         0.        ]\n",
            " [0.         0.         0.         0.         0.         0.         0.         0.         0.         0.         0.         0.         0.         0.         0.         0.         0.         0.         0.         0.         0.         0.         0.         0.         0.         0.         0.         0.        ]\n",
            " [0.         0.         0.         0.         0.         0.         0.         0.         0.         0.         0.         0.         0.         0.         0.         0.         0.         0.         0.         0.         0.         0.         0.         0.         0.         0.         0.         0.        ]]\n",
            "\n",
            "\n"
          ]
        },
        {
          "output_type": "display_data",
          "data": {
            "text/plain": [
              "<Figure size 800x800 with 2 Axes>"
            ],
            "image/png": "[encoded data removed]"
          },
          "metadata": {}
        }
      ]
    },
    {
      "cell_type": "code",
      "source": [
        "def train_normal():\n",
        "\n",
        "  model = tf.keras.models.Sequential([\n",
        "   tf.keras.Input(shape=(28,28)),\n",
        "   tf.keras.layers.Flatten(),\n",
        "   tf.keras.layers.Dense(128, activation=tf.nn.relu),\n",
        "   tf.keras.layers.Dense(2, activation=tf.nn.softmax)\n",
        "  ])\n",
        "  return model\n",
        "\n"
      ],
      "metadata": {
        "id": "ZT6AFZjcTtdL"
      },
      "execution_count": null,
      "outputs": []
    },
    {
      "cell_type": "code",
      "source": [
        "def train_conv():\n",
        "  model = tf.keras.models.Sequential([\n",
        "     tf.keras.Input(shape=(28,28,1)),\n",
        "    tf.keras.layers.Conv2D(64, (3,3), activation='relu'),\n",
        "    tf.keras.layers.MaxPooling2D(2, 2),\n",
        "    tf.keras.layers.Conv2D(64, (3,3), activation='relu'),\n",
        "    tf.keras.layers.MaxPooling2D(2,2),\n",
        "\n",
        "    # Add the same layers as before\n",
        "    tf.keras.layers.Flatten(),\n",
        "     tf.keras.layers.Dense(12, activation='relu'),\n",
        "    tf.keras.layers.Dense(128, activation='relu'),\n",
        "    tf.keras.layers.Dense(2, activation='softmax')\n",
        "  ])\n",
        "  return model"
      ],
      "metadata": {
        "id": "tAyaHEBiji6r"
      },
      "execution_count": 5,
      "outputs": []
    },
    {
      "cell_type": "code",
      "source": [
        "model=train_normal()\n",
        "\n",
        "model.compile(optimizer = tf.optimizers.Adam(),\n",
        "              loss = 'sparse_categorical_crossentropy',\n",
        "              metrics=['accuracy'])\n",
        "\n",
        "model.fit(train_images, train_labels, epochs=80)\n",
        "model.summary()\n",
        "\n",
        "print(\"\\nMODEL EVALUATION:\")\n",
        "test_loss, test_accuracy = model.evaluate(test_images, test_labels, verbose=0)\n",
        "print(f'test set accuracy: {test_accuracy}')\n",
        "print(f'test set loss: {test_loss}')"
      ],
      "metadata": {
        "colab": {
          "base_uri": "https://localhost:8080/",
          "height": 1000
        },
        "id": "ThdwBlKpkU2y",
        "outputId": "cdd69812-2ef5-4675-e9e6-b3550b98fec2"
      },
      "execution_count": null,
      "outputs": [
        {
          "output_type": "stream",
          "name": "stdout",
          "text": [
            "Epoch 1/80\n",
            "\u001b[1m1/1\u001b[0m \u001b[32m━━━━━━━━━━━━━━━━━━━━\u001b[0m\u001b[37m\u001b[0m \u001b[1m2s\u001b[0m 2s/step - accuracy: 0.3333 - loss: 0.7206\n",
            "Epoch 2/80\n",
            "\u001b[1m1/1\u001b[0m \u001b[32m━━━━━━━━━━━━━━━━━━━━\u001b[0m\u001b[37m\u001b[0m \u001b[1m0s\u001b[0m 56ms/step - accuracy: 0.5000 - loss: 1.1984\n",
            "Epoch 3/80\n",
            "\u001b[1m1/1\u001b[0m \u001b[32m━━━━━━━━━━━━━━━━━━━━\u001b[0m\u001b[37m\u001b[0m \u001b[1m0s\u001b[0m 56ms/step - accuracy: 0.5000 - loss: 0.6821\n",
            "Epoch 4/80\n",
            "\u001b[1m1/1\u001b[0m \u001b[32m━━━━━━━━━━━━━━━━━━━━\u001b[0m\u001b[37m\u001b[0m \u001b[1m0s\u001b[0m 59ms/step - accuracy: 0.5000 - loss: 0.8307\n",
            "Epoch 5/80\n",
            "\u001b[1m1/1\u001b[0m \u001b[32m━━━━━━━━━━━━━━━━━━━━\u001b[0m\u001b[37m\u001b[0m \u001b[1m0s\u001b[0m 60ms/step - accuracy: 0.7500 - loss: 0.5198\n",
            "Epoch 6/80\n",
            "\u001b[1m1/1\u001b[0m \u001b[32m━━━━━━━━━━━━━━━━━━━━\u001b[0m\u001b[37m\u001b[0m \u001b[1m0s\u001b[0m 57ms/step - accuracy: 0.5000 - loss: 0.5828\n",
            "Epoch 7/80\n",
            "\u001b[1m1/1\u001b[0m \u001b[32m━━━━━━━━━━━━━━━━━━━━\u001b[0m\u001b[37m\u001b[0m \u001b[1m0s\u001b[0m 40ms/step - accuracy: 0.5000 - loss: 0.6511\n",
            "Epoch 8/80\n",
            "\u001b[1m1/1\u001b[0m \u001b[32m━━━━━━━━━━━━━━━━━━━━\u001b[0m\u001b[37m\u001b[0m \u001b[1m0s\u001b[0m 55ms/step - accuracy: 0.5833 - loss: 0.5003\n",
            "Epoch 9/80\n",
            "\u001b[1m1/1\u001b[0m \u001b[32m━━━━━━━━━━━━━━━━━━━━\u001b[0m\u001b[37m\u001b[0m \u001b[1m0s\u001b[0m 41ms/step - accuracy: 0.8333 - loss: 0.4370\n",
            "Epoch 10/80\n",
            "\u001b[1m1/1\u001b[0m \u001b[32m━━━━━━━━━━━━━━━━━━━━\u001b[0m\u001b[37m\u001b[0m \u001b[1m0s\u001b[0m 42ms/step - accuracy: 0.6667 - loss: 0.5173\n",
            "Epoch 11/80\n",
            "\u001b[1m1/1\u001b[0m \u001b[32m━━━━━━━━━━━━━━━━━━━━\u001b[0m\u001b[37m\u001b[0m \u001b[1m0s\u001b[0m 56ms/step - accuracy: 0.7500 - loss: 0.4910\n",
            "Epoch 12/80\n",
            "\u001b[1m1/1\u001b[0m \u001b[32m━━━━━━━━━━━━━━━━━━━━\u001b[0m\u001b[37m\u001b[0m \u001b[1m0s\u001b[0m 43ms/step - accuracy: 0.9167 - loss: 0.3898\n",
            "Epoch 13/80\n",
            "\u001b[1m1/1\u001b[0m \u001b[32m━━━━━━━━━━━━━━━━━━━━\u001b[0m\u001b[37m\u001b[0m \u001b[1m0s\u001b[0m 44ms/step - accuracy: 1.0000 - loss: 0.3794\n",
            "Epoch 14/80\n",
            "\u001b[1m1/1\u001b[0m \u001b[32m━━━━━━━━━━━━━━━━━━━━\u001b[0m\u001b[37m\u001b[0m \u001b[1m0s\u001b[0m 139ms/step - accuracy: 0.6667 - loss: 0.4194\n",
            "Epoch 15/80\n",
            "\u001b[1m1/1\u001b[0m \u001b[32m━━━━━━━━━━━━━━━━━━━━\u001b[0m\u001b[37m\u001b[0m \u001b[1m0s\u001b[0m 60ms/step - accuracy: 0.9167 - loss: 0.3882\n",
            "Epoch 16/80\n",
            "\u001b[1m1/1\u001b[0m \u001b[32m━━━━━━━━━━━━━━━━━━━━\u001b[0m\u001b[37m\u001b[0m \u001b[1m0s\u001b[0m 42ms/step - accuracy: 1.0000 - loss: 0.3222\n",
            "Epoch 17/80\n",
            "\u001b[1m1/1\u001b[0m \u001b[32m━━━━━━━━━━━━━━━━━━━━\u001b[0m\u001b[37m\u001b[0m \u001b[1m0s\u001b[0m 56ms/step - accuracy: 0.9167 - loss: 0.3137\n",
            "Epoch 18/80\n",
            "\u001b[1m1/1\u001b[0m \u001b[32m━━━━━━━━━━━━━━━━━━━━\u001b[0m\u001b[37m\u001b[0m \u001b[1m0s\u001b[0m 59ms/step - accuracy: 0.9167 - loss: 0.3338\n",
            "Epoch 19/80\n",
            "\u001b[1m1/1\u001b[0m \u001b[32m━━━━━━━━━━━━━━━━━━━━\u001b[0m\u001b[37m\u001b[0m \u001b[1m0s\u001b[0m 49ms/step - accuracy: 0.9167 - loss: 0.3124\n",
            "Epoch 20/80\n",
            "\u001b[1m1/1\u001b[0m \u001b[32m━━━━━━━━━━━━━━━━━━━━\u001b[0m\u001b[37m\u001b[0m \u001b[1m0s\u001b[0m 139ms/step - accuracy: 1.0000 - loss: 0.2686\n",
            "Epoch 21/80\n",
            "\u001b[1m1/1\u001b[0m \u001b[32m━━━━━━━━━━━━━━━━━━━━\u001b[0m\u001b[37m\u001b[0m \u001b[1m0s\u001b[0m 125ms/step - accuracy: 1.0000 - loss: 0.2580\n",
            "Epoch 22/80\n",
            "\u001b[1m1/1\u001b[0m \u001b[32m━━━━━━━━━━━━━━━━━━━━\u001b[0m\u001b[37m\u001b[0m \u001b[1m0s\u001b[0m 44ms/step - accuracy: 1.0000 - loss: 0.2690\n",
            "Epoch 23/80\n",
            "\u001b[1m1/1\u001b[0m \u001b[32m━━━━━━━━━━━━━━━━━━━━\u001b[0m\u001b[37m\u001b[0m \u001b[1m0s\u001b[0m 63ms/step - accuracy: 1.0000 - loss: 0.2560\n",
            "Epoch 24/80\n",
            "\u001b[1m1/1\u001b[0m \u001b[32m━━━━━━━━━━━━━━━━━━━━\u001b[0m\u001b[37m\u001b[0m \u001b[1m0s\u001b[0m 53ms/step - accuracy: 1.0000 - loss: 0.2255\n",
            "Epoch 25/80\n",
            "\u001b[1m1/1\u001b[0m \u001b[32m━━━━━━━━━━━━━━━━━━━━\u001b[0m\u001b[37m\u001b[0m \u001b[1m0s\u001b[0m 50ms/step - accuracy: 1.0000 - loss: 0.2128\n",
            "Epoch 26/80\n",
            "\u001b[1m1/1\u001b[0m \u001b[32m━━━━━━━━━━━━━━━━━━━━\u001b[0m\u001b[37m\u001b[0m \u001b[1m0s\u001b[0m 49ms/step - accuracy: 1.0000 - loss: 0.2167\n",
            "Epoch 27/80\n",
            "\u001b[1m1/1\u001b[0m \u001b[32m━━━━━━━━━━━━━━━━━━━━\u001b[0m\u001b[37m\u001b[0m \u001b[1m0s\u001b[0m 59ms/step - accuracy: 1.0000 - loss: 0.2100\n",
            "Epoch 28/80\n",
            "\u001b[1m1/1\u001b[0m \u001b[32m━━━━━━━━━━━━━━━━━━━━\u001b[0m\u001b[37m\u001b[0m \u001b[1m0s\u001b[0m 53ms/step - accuracy: 1.0000 - loss: 0.1897\n",
            "Epoch 29/80\n",
            "\u001b[1m1/1\u001b[0m \u001b[32m━━━━━━━━━━━━━━━━━━━━\u001b[0m\u001b[37m\u001b[0m \u001b[1m0s\u001b[0m 52ms/step - accuracy: 1.0000 - loss: 0.1762\n",
            "Epoch 30/80\n",
            "\u001b[1m1/1\u001b[0m \u001b[32m━━━━━━━━━━━━━━━━━━━━\u001b[0m\u001b[37m\u001b[0m \u001b[1m0s\u001b[0m 58ms/step - accuracy: 1.0000 - loss: 0.1753\n",
            "Epoch 31/80\n",
            "\u001b[1m1/1\u001b[0m \u001b[32m━━━━━━━━━━━━━━━━━━━━\u001b[0m\u001b[37m\u001b[0m \u001b[1m0s\u001b[0m 52ms/step - accuracy: 1.0000 - loss: 0.1727\n",
            "Epoch 32/80\n",
            "\u001b[1m1/1\u001b[0m \u001b[32m━━━━━━━━━━━━━━━━━━━━\u001b[0m\u001b[37m\u001b[0m \u001b[1m0s\u001b[0m 61ms/step - accuracy: 1.0000 - loss: 0.1604\n",
            "Epoch 33/80\n",
            "\u001b[1m1/1\u001b[0m \u001b[32m━━━━━━━━━━━━━━━━━━━━\u001b[0m\u001b[37m\u001b[0m \u001b[1m0s\u001b[0m 56ms/step - accuracy: 1.0000 - loss: 0.1478\n",
            "Epoch 34/80\n",
            "\u001b[1m1/1\u001b[0m \u001b[32m━━━━━━━━━━━━━━━━━━━━\u001b[0m\u001b[37m\u001b[0m \u001b[1m0s\u001b[0m 42ms/step - accuracy: 1.0000 - loss: 0.1431\n",
            "Epoch 35/80\n",
            "\u001b[1m1/1\u001b[0m \u001b[32m━━━━━━━━━━━━━━━━━━━━\u001b[0m\u001b[37m\u001b[0m \u001b[1m0s\u001b[0m 38ms/step - accuracy: 1.0000 - loss: 0.1416\n",
            "Epoch 36/80\n",
            "\u001b[1m1/1\u001b[0m \u001b[32m━━━━━━━━━━━━━━━━━━━━\u001b[0m\u001b[37m\u001b[0m \u001b[1m0s\u001b[0m 57ms/step - accuracy: 1.0000 - loss: 0.1352\n",
            "Epoch 37/80\n",
            "\u001b[1m1/1\u001b[0m \u001b[32m━━━━━━━━━━━━━━━━━━━━\u001b[0m\u001b[37m\u001b[0m \u001b[1m0s\u001b[0m 39ms/step - accuracy: 1.0000 - loss: 0.1255\n",
            "Epoch 38/80\n",
            "\u001b[1m1/1\u001b[0m \u001b[32m━━━━━━━━━━━━━━━━━━━━\u001b[0m\u001b[37m\u001b[0m \u001b[1m0s\u001b[0m 52ms/step - accuracy: 1.0000 - loss: 0.1189\n",
            "Epoch 39/80\n",
            "\u001b[1m1/1\u001b[0m \u001b[32m━━━━━━━━━━━━━━━━━━━━\u001b[0m\u001b[37m\u001b[0m \u001b[1m0s\u001b[0m 32ms/step - accuracy: 1.0000 - loss: 0.1164\n",
            "Epoch 40/80\n",
            "\u001b[1m1/1\u001b[0m \u001b[32m━━━━━━━━━━━━━━━━━━━━\u001b[0m\u001b[37m\u001b[0m \u001b[1m0s\u001b[0m 29ms/step - accuracy: 1.0000 - loss: 0.1134\n",
            "Epoch 41/80\n",
            "\u001b[1m1/1\u001b[0m \u001b[32m━━━━━━━━━━━━━━━━━━━━\u001b[0m\u001b[37m\u001b[0m \u001b[1m0s\u001b[0m 56ms/step - accuracy: 1.0000 - loss: 0.1074\n",
            "Epoch 42/80\n",
            "\u001b[1m1/1\u001b[0m \u001b[32m━━━━━━━━━━━━━━━━━━━━\u001b[0m\u001b[37m\u001b[0m \u001b[1m0s\u001b[0m 58ms/step - accuracy: 1.0000 - loss: 0.1010\n",
            "Epoch 43/80\n",
            "\u001b[1m1/1\u001b[0m \u001b[32m━━━━━━━━━━━━━━━━━━━━\u001b[0m\u001b[37m\u001b[0m \u001b[1m0s\u001b[0m 52ms/step - accuracy: 1.0000 - loss: 0.0969\n",
            "Epoch 44/80\n",
            "\u001b[1m1/1\u001b[0m \u001b[32m━━━━━━━━━━━━━━━━━━━━\u001b[0m\u001b[37m\u001b[0m \u001b[1m0s\u001b[0m 30ms/step - accuracy: 1.0000 - loss: 0.0946\n",
            "Epoch 45/80\n",
            "\u001b[1m1/1\u001b[0m \u001b[32m━━━━━━━━━━━━━━━━━━━━\u001b[0m\u001b[37m\u001b[0m \u001b[1m0s\u001b[0m 30ms/step - accuracy: 1.0000 - loss: 0.0916\n",
            "Epoch 46/80\n",
            "\u001b[1m1/1\u001b[0m \u001b[32m━━━━━━━━━━━━━━━━━━━━\u001b[0m\u001b[37m\u001b[0m \u001b[1m0s\u001b[0m 31ms/step - accuracy: 1.0000 - loss: 0.0870\n",
            "Epoch 47/80\n",
            "\u001b[1m1/1\u001b[0m \u001b[32m━━━━━━━━━━━━━━━━━━━━\u001b[0m\u001b[37m\u001b[0m \u001b[1m0s\u001b[0m 40ms/step - accuracy: 1.0000 - loss: 0.0826\n",
            "Epoch 48/80\n",
            "\u001b[1m1/1\u001b[0m \u001b[32m━━━━━━━━━━━━━━━━━━━━\u001b[0m\u001b[37m\u001b[0m \u001b[1m0s\u001b[0m 30ms/step - accuracy: 1.0000 - loss: 0.0797\n",
            "Epoch 49/80\n",
            "\u001b[1m1/1\u001b[0m \u001b[32m━━━━━━━━━━━━━━━━━━━━\u001b[0m\u001b[37m\u001b[0m \u001b[1m0s\u001b[0m 32ms/step - accuracy: 1.0000 - loss: 0.0777\n",
            "Epoch 50/80\n",
            "\u001b[1m1/1\u001b[0m \u001b[32m━━━━━━━━━━━━━━━━━━━━\u001b[0m\u001b[37m\u001b[0m \u001b[1m0s\u001b[0m 31ms/step - accuracy: 1.0000 - loss: 0.0750\n",
            "Epoch 51/80\n",
            "\u001b[1m1/1\u001b[0m \u001b[32m━━━━━━━━━━━━━━━━━━━━\u001b[0m\u001b[37m\u001b[0m \u001b[1m0s\u001b[0m 58ms/step - accuracy: 1.0000 - loss: 0.0717\n",
            "Epoch 52/80\n",
            "\u001b[1m1/1\u001b[0m \u001b[32m━━━━━━━━━━━━━━━━━━━━\u001b[0m\u001b[37m\u001b[0m \u001b[1m0s\u001b[0m 35ms/step - accuracy: 1.0000 - loss: 0.0686\n",
            "Epoch 53/80\n",
            "\u001b[1m1/1\u001b[0m \u001b[32m━━━━━━━━━━━━━━━━━━━━\u001b[0m\u001b[37m\u001b[0m \u001b[1m0s\u001b[0m 62ms/step - accuracy: 1.0000 - loss: 0.0662\n",
            "Epoch 54/80\n",
            "\u001b[1m1/1\u001b[0m \u001b[32m━━━━━━━━━━━━━━━━━━━━\u001b[0m\u001b[37m\u001b[0m \u001b[1m0s\u001b[0m 40ms/step - accuracy: 1.0000 - loss: 0.0644\n",
            "Epoch 55/80\n",
            "\u001b[1m1/1\u001b[0m \u001b[32m━━━━━━━━━━━━━━━━━━━━\u001b[0m\u001b[37m\u001b[0m \u001b[1m0s\u001b[0m 41ms/step - accuracy: 1.0000 - loss: 0.0624\n",
            "Epoch 56/80\n",
            "\u001b[1m1/1\u001b[0m \u001b[32m━━━━━━━━━━━━━━━━━━━━\u001b[0m\u001b[37m\u001b[0m \u001b[1m0s\u001b[0m 55ms/step - accuracy: 1.0000 - loss: 0.0600\n",
            "Epoch 57/80\n",
            "\u001b[1m1/1\u001b[0m \u001b[32m━━━━━━━━━━━━━━━━━━━━\u001b[0m\u001b[37m\u001b[0m \u001b[1m0s\u001b[0m 57ms/step - accuracy: 1.0000 - loss: 0.0576\n",
            "Epoch 58/80\n",
            "\u001b[1m1/1\u001b[0m \u001b[32m━━━━━━━━━━━━━━━━━━━━\u001b[0m\u001b[37m\u001b[0m \u001b[1m0s\u001b[0m 40ms/step - accuracy: 1.0000 - loss: 0.0557\n",
            "Epoch 59/80\n",
            "\u001b[1m1/1\u001b[0m \u001b[32m━━━━━━━━━━━━━━━━━━━━\u001b[0m\u001b[37m\u001b[0m \u001b[1m0s\u001b[0m 53ms/step - accuracy: 1.0000 - loss: 0.0542\n",
            "Epoch 60/80\n",
            "\u001b[1m1/1\u001b[0m \u001b[32m━━━━━━━━━━━━━━━━━━━━\u001b[0m\u001b[37m\u001b[0m \u001b[1m0s\u001b[0m 56ms/step - accuracy: 1.0000 - loss: 0.0526\n",
            "Epoch 61/80\n",
            "\u001b[1m1/1\u001b[0m \u001b[32m━━━━━━━━━━━━━━━━━━━━\u001b[0m\u001b[37m\u001b[0m \u001b[1m0s\u001b[0m 58ms/step - accuracy: 1.0000 - loss: 0.0508\n",
            "Epoch 62/80\n",
            "\u001b[1m1/1\u001b[0m \u001b[32m━━━━━━━━━━━━━━━━━━━━\u001b[0m\u001b[37m\u001b[0m \u001b[1m0s\u001b[0m 56ms/step - accuracy: 1.0000 - loss: 0.0490\n",
            "Epoch 63/80\n",
            "\u001b[1m1/1\u001b[0m \u001b[32m━━━━━━━━━━━━━━━━━━━━\u001b[0m\u001b[37m\u001b[0m \u001b[1m0s\u001b[0m 31ms/step - accuracy: 1.0000 - loss: 0.0474\n",
            "Epoch 64/80\n",
            "\u001b[1m1/1\u001b[0m \u001b[32m━━━━━━━━━━━━━━━━━━━━\u001b[0m\u001b[37m\u001b[0m \u001b[1m0s\u001b[0m 30ms/step - accuracy: 1.0000 - loss: 0.0461\n",
            "Epoch 65/80\n",
            "\u001b[1m1/1\u001b[0m \u001b[32m━━━━━━━━━━━━━━━━━━━━\u001b[0m\u001b[37m\u001b[0m \u001b[1m0s\u001b[0m 29ms/step - accuracy: 1.0000 - loss: 0.0448\n",
            "Epoch 66/80\n",
            "\u001b[1m1/1\u001b[0m \u001b[32m━━━━━━━━━━━━━━━━━━━━\u001b[0m\u001b[37m\u001b[0m \u001b[1m0s\u001b[0m 30ms/step - accuracy: 1.0000 - loss: 0.0435\n",
            "Epoch 67/80\n",
            "\u001b[1m1/1\u001b[0m \u001b[32m━━━━━━━━━━━━━━━━━━━━\u001b[0m\u001b[37m\u001b[0m \u001b[1m0s\u001b[0m 30ms/step - accuracy: 1.0000 - loss: 0.0421\n",
            "Epoch 68/80\n",
            "\u001b[1m1/1\u001b[0m \u001b[32m━━━━━━━━━━━━━━━━━━━━\u001b[0m\u001b[37m\u001b[0m \u001b[1m0s\u001b[0m 55ms/step - accuracy: 1.0000 - loss: 0.0408\n",
            "Epoch 69/80\n",
            "\u001b[1m1/1\u001b[0m \u001b[32m━━━━━━━━━━━━━━━━━━━━\u001b[0m\u001b[37m\u001b[0m \u001b[1m0s\u001b[0m 55ms/step - accuracy: 1.0000 - loss: 0.0397\n",
            "Epoch 70/80\n",
            "\u001b[1m1/1\u001b[0m \u001b[32m━━━━━━━━━━━━━━━━━━━━\u001b[0m\u001b[37m\u001b[0m \u001b[1m0s\u001b[0m 30ms/step - accuracy: 1.0000 - loss: 0.0386\n",
            "Epoch 71/80\n",
            "\u001b[1m1/1\u001b[0m \u001b[32m━━━━━━━━━━━━━━━━━━━━\u001b[0m\u001b[37m\u001b[0m \u001b[1m0s\u001b[0m 29ms/step - accuracy: 1.0000 - loss: 0.0376\n",
            "Epoch 72/80\n",
            "\u001b[1m1/1\u001b[0m \u001b[32m━━━━━━━━━━━━━━━━━━━━\u001b[0m\u001b[37m\u001b[0m \u001b[1m0s\u001b[0m 31ms/step - accuracy: 1.0000 - loss: 0.0366\n",
            "Epoch 73/80\n",
            "\u001b[1m1/1\u001b[0m \u001b[32m━━━━━━━━━━━━━━━━━━━━\u001b[0m\u001b[37m\u001b[0m \u001b[1m0s\u001b[0m 38ms/step - accuracy: 1.0000 - loss: 0.0355\n",
            "Epoch 74/80\n",
            "\u001b[1m1/1\u001b[0m \u001b[32m━━━━━━━━━━━━━━━━━━━━\u001b[0m\u001b[37m\u001b[0m \u001b[1m0s\u001b[0m 36ms/step - accuracy: 1.0000 - loss: 0.0345\n",
            "Epoch 75/80\n",
            "\u001b[1m1/1\u001b[0m \u001b[32m━━━━━━━━━━━━━━━━━━━━\u001b[0m\u001b[37m\u001b[0m \u001b[1m0s\u001b[0m 39ms/step - accuracy: 1.0000 - loss: 0.0337\n",
            "Epoch 76/80\n",
            "\u001b[1m1/1\u001b[0m \u001b[32m━━━━━━━━━━━━━━━━━━━━\u001b[0m\u001b[37m\u001b[0m \u001b[1m0s\u001b[0m 53ms/step - accuracy: 1.0000 - loss: 0.0328\n",
            "Epoch 77/80\n",
            "\u001b[1m1/1\u001b[0m \u001b[32m━━━━━━━━━━━━━━━━━━━━\u001b[0m\u001b[37m\u001b[0m \u001b[1m0s\u001b[0m 55ms/step - accuracy: 1.0000 - loss: 0.0320\n",
            "Epoch 78/80\n",
            "\u001b[1m1/1\u001b[0m \u001b[32m━━━━━━━━━━━━━━━━━━━━\u001b[0m\u001b[37m\u001b[0m \u001b[1m0s\u001b[0m 35ms/step - accuracy: 1.0000 - loss: 0.0312\n",
            "Epoch 79/80\n",
            "\u001b[1m1/1\u001b[0m \u001b[32m━━━━━━━━━━━━━━━━━━━━\u001b[0m\u001b[37m\u001b[0m \u001b[1m0s\u001b[0m 37ms/step - accuracy: 1.0000 - loss: 0.0303\n",
            "Epoch 80/80\n",
            "\u001b[1m1/1\u001b[0m \u001b[32m━━━━━━━━━━━━━━━━━━━━\u001b[0m\u001b[37m\u001b[0m \u001b[1m0s\u001b[0m 55ms/step - accuracy: 1.0000 - loss: 0.0296\n"
          ]
        },
        {
          "output_type": "display_data",
          "data": {
            "text/plain": [
              "\u001b[1mModel: \"sequential_16\"\u001b[0m\n"
            ],
            "text/html": [
              "<pre style=\"white-space:pre;overflow-x:auto;line-height:normal;font-family:Menlo,'DejaVu Sans Mono',consolas,'Courier New',monospace\"><span style=\"font-weight: bold\">Model: \"sequential_16\"</span>\n",
              "</pre>\n"
            ]
          },
          "metadata": {}
        },
        {
          "output_type": "display_data",
          "data": {
            "text/plain": [
              "┏━━━━━━━━━━━━━━━━━━━━━━━━━━━━━━━━━━━━━━┳━━━━━━━━━━━━━━━━━━━━━━━━━━━━━┳━━━━━━━━━━━━━━━━━┓\n",
              "┃\u001b[1m \u001b[0m\u001b[1mLayer (type)                        \u001b[0m\u001b[1m \u001b[0m┃\u001b[1m \u001b[0m\u001b[1mOutput Shape               \u001b[0m\u001b[1m \u001b[0m┃\u001b[1m \u001b[0m\u001b[1m        Param #\u001b[0m\u001b[1m \u001b[0m┃\n",
              "┡━━━━━━━━━━━━━━━━━━━━━━━━━━━━━━━━━━━━━━╇━━━━━━━━━━━━━━━━━━━━━━━━━━━━━╇━━━━━━━━━━━━━━━━━┩\n",
              "│ flatten_16 (\u001b[38;5;33mFlatten\u001b[0m)                 │ (\u001b[38;5;45mNone\u001b[0m, \u001b[38;5;34m784\u001b[0m)                 │               \u001b[38;5;34m0\u001b[0m │\n",
              "├──────────────────────────────────────┼─────────────────────────────┼─────────────────┤\n",
              "│ dense_32 (\u001b[38;5;33mDense\u001b[0m)                     │ (\u001b[38;5;45mNone\u001b[0m, \u001b[38;5;34m128\u001b[0m)                 │         \u001b[38;5;34m100,480\u001b[0m │\n",
              "├──────────────────────────────────────┼─────────────────────────────┼─────────────────┤\n",
              "│ dense_33 (\u001b[38;5;33mDense\u001b[0m)                     │ (\u001b[38;5;45mNone\u001b[0m, \u001b[38;5;34m2\u001b[0m)                   │             \u001b[38;5;34m258\u001b[0m │\n",
              "└──────────────────────────────────────┴─────────────────────────────┴─────────────────┘\n"
            ],
            "text/html": [
              "<pre style=\"white-space:pre;overflow-x:auto;line-height:normal;font-family:Menlo,'DejaVu Sans Mono',consolas,'Courier New',monospace\">┏━━━━━━━━━━━━━━━━━━━━━━━━━━━━━━━━━━━━━━┳━━━━━━━━━━━━━━━━━━━━━━━━━━━━━┳━━━━━━━━━━━━━━━━━┓\n",
              "┃<span style=\"font-weight: bold\"> Layer (type)                         </span>┃<span style=\"font-weight: bold\"> Output Shape                </span>┃<span style=\"font-weight: bold\">         Param # </span>┃\n",
              "┡━━━━━━━━━━━━━━━━━━━━━━━━━━━━━━━━━━━━━━╇━━━━━━━━━━━━━━━━━━━━━━━━━━━━━╇━━━━━━━━━━━━━━━━━┩\n",
              "│ flatten_16 (<span style=\"color: #0087ff; text-decoration-color: #0087ff\">Flatten</span>)                 │ (<span style=\"color: #00d7ff; text-decoration-color: #00d7ff\">None</span>, <span style=\"color: #00af00; text-decoration-color: #00af00\">784</span>)                 │               <span style=\"color: #00af00; text-decoration-color: #00af00\">0</span> │\n",
              "├──────────────────────────────────────┼─────────────────────────────┼─────────────────┤\n",
              "│ dense_32 (<span style=\"color: #0087ff; text-decoration-color: #0087ff\">Dense</span>)                     │ (<span style=\"color: #00d7ff; text-decoration-color: #00d7ff\">None</span>, <span style=\"color: #00af00; text-decoration-color: #00af00\">128</span>)                 │         <span style=\"color: #00af00; text-decoration-color: #00af00\">100,480</span> │\n",
              "├──────────────────────────────────────┼─────────────────────────────┼─────────────────┤\n",
              "│ dense_33 (<span style=\"color: #0087ff; text-decoration-color: #0087ff\">Dense</span>)                     │ (<span style=\"color: #00d7ff; text-decoration-color: #00d7ff\">None</span>, <span style=\"color: #00af00; text-decoration-color: #00af00\">2</span>)                   │             <span style=\"color: #00af00; text-decoration-color: #00af00\">258</span> │\n",
              "└──────────────────────────────────────┴─────────────────────────────┴─────────────────┘\n",
              "</pre>\n"
            ]
          },
          "metadata": {}
        },
        {
          "output_type": "display_data",
          "data": {
            "text/plain": [
              "\u001b[1m Total params: \u001b[0m\u001b[38;5;34m302,216\u001b[0m (1.15 MB)\n"
            ],
            "text/html": [
              "<pre style=\"white-space:pre;overflow-x:auto;line-height:normal;font-family:Menlo,'DejaVu Sans Mono',consolas,'Courier New',monospace\"><span style=\"font-weight: bold\"> Total params: </span><span style=\"color: #00af00; text-decoration-color: #00af00\">302,216</span> (1.15 MB)\n",
              "</pre>\n"
            ]
          },
          "metadata": {}
        },
        {
          "output_type": "display_data",
          "data": {
            "text/plain": [
              "\u001b[1m Trainable params: \u001b[0m\u001b[38;5;34m100,738\u001b[0m (393.51 KB)\n"
            ],
            "text/html": [
              "<pre style=\"white-space:pre;overflow-x:auto;line-height:normal;font-family:Menlo,'DejaVu Sans Mono',consolas,'Courier New',monospace\"><span style=\"font-weight: bold\"> Trainable params: </span><span style=\"color: #00af00; text-decoration-color: #00af00\">100,738</span> (393.51 KB)\n",
              "</pre>\n"
            ]
          },
          "metadata": {}
        },
        {
          "output_type": "display_data",
          "data": {
            "text/plain": [
              "\u001b[1m Non-trainable params: \u001b[0m\u001b[38;5;34m0\u001b[0m (0.00 B)\n"
            ],
            "text/html": [
              "<pre style=\"white-space:pre;overflow-x:auto;line-height:normal;font-family:Menlo,'DejaVu Sans Mono',consolas,'Courier New',monospace\"><span style=\"font-weight: bold\"> Non-trainable params: </span><span style=\"color: #00af00; text-decoration-color: #00af00\">0</span> (0.00 B)\n",
              "</pre>\n"
            ]
          },
          "metadata": {}
        },
        {
          "output_type": "display_data",
          "data": {
            "text/plain": [
              "\u001b[1m Optimizer params: \u001b[0m\u001b[38;5;34m201,478\u001b[0m (787.03 KB)\n"
            ],
            "text/html": [
              "<pre style=\"white-space:pre;overflow-x:auto;line-height:normal;font-family:Menlo,'DejaVu Sans Mono',consolas,'Courier New',monospace\"><span style=\"font-weight: bold\"> Optimizer params: </span><span style=\"color: #00af00; text-decoration-color: #00af00\">201,478</span> (787.03 KB)\n",
              "</pre>\n"
            ]
          },
          "metadata": {}
        },
        {
          "output_type": "stream",
          "name": "stdout",
          "text": [
            "\n",
            "MODEL EVALUATION:\n",
            "test set accuracy: 0.6666666865348816\n",
            "test set loss: 1.482742428779602\n"
          ]
        }
      ]
    },
    {
      "cell_type": "code",
      "source": [
        "model=train_conv()\n",
        "\n",
        "model.compile(optimizer = tf.optimizers.Adam(),\n",
        "              loss = 'sparse_categorical_crossentropy',\n",
        "              metrics=['accuracy'])\n",
        "\n",
        "model.fit(train_images, train_labels, epochs=70)\n",
        "model.summary()\n",
        "\n",
        "print(\"\\nMODEL EVALUATION:\")\n",
        "test_loss, test_accuracy = model.evaluate(test_images, test_labels, verbose=0)\n",
        "print(f'test set accuracy: {test_accuracy}')\n",
        "print(f'test set loss: {test_loss}')"
      ],
      "metadata": {
        "colab": {
          "base_uri": "https://localhost:8080/",
          "height": 1000
        },
        "id": "hdsAOVuaUTqp",
        "outputId": "6cfb02bd-4ba7-4cf5-cc1d-252f757b25f5"
      },
      "execution_count": 8,
      "outputs": [
        {
          "output_type": "stream",
          "name": "stdout",
          "text": [
            "Epoch 1/70\n",
            "\u001b[1m1/1\u001b[0m \u001b[32m━━━━━━━━━━━━━━━━━━━━\u001b[0m\u001b[37m\u001b[0m \u001b[1m3s\u001b[0m 3s/step - accuracy: 0.4583 - loss: 0.6930\n",
            "Epoch 2/70\n",
            "\u001b[1m1/1\u001b[0m \u001b[32m━━━━━━━━━━━━━━━━━━━━\u001b[0m\u001b[37m\u001b[0m \u001b[1m0s\u001b[0m 113ms/step - accuracy: 0.5000 - loss: 0.6896\n",
            "Epoch 3/70\n",
            "\u001b[1m1/1\u001b[0m \u001b[32m━━━━━━━━━━━━━━━━━━━━\u001b[0m\u001b[37m\u001b[0m \u001b[1m0s\u001b[0m 111ms/step - accuracy: 0.5000 - loss: 0.6869\n",
            "Epoch 4/70\n",
            "\u001b[1m1/1\u001b[0m \u001b[32m━━━━━━━━━━━━━━━━━━━━\u001b[0m\u001b[37m\u001b[0m \u001b[1m0s\u001b[0m 73ms/step - accuracy: 0.5000 - loss: 0.6814\n",
            "Epoch 5/70\n",
            "\u001b[1m1/1\u001b[0m \u001b[32m━━━━━━━━━━━━━━━━━━━━\u001b[0m\u001b[37m\u001b[0m \u001b[1m0s\u001b[0m 56ms/step - accuracy: 0.5000 - loss: 0.6755\n",
            "Epoch 6/70\n",
            "\u001b[1m1/1\u001b[0m \u001b[32m━━━━━━━━━━━━━━━━━━━━\u001b[0m\u001b[37m\u001b[0m \u001b[1m0s\u001b[0m 62ms/step - accuracy: 0.5000 - loss: 0.6691\n",
            "Epoch 7/70\n",
            "\u001b[1m1/1\u001b[0m \u001b[32m━━━━━━━━━━━━━━━━━━━━\u001b[0m\u001b[37m\u001b[0m \u001b[1m0s\u001b[0m 65ms/step - accuracy: 0.5000 - loss: 0.6612\n",
            "Epoch 8/70\n",
            "\u001b[1m1/1\u001b[0m \u001b[32m━━━━━━━━━━━━━━━━━━━━\u001b[0m\u001b[37m\u001b[0m \u001b[1m0s\u001b[0m 58ms/step - accuracy: 0.5000 - loss: 0.6514\n",
            "Epoch 9/70\n",
            "\u001b[1m1/1\u001b[0m \u001b[32m━━━━━━━━━━━━━━━━━━━━\u001b[0m\u001b[37m\u001b[0m \u001b[1m0s\u001b[0m 60ms/step - accuracy: 0.5000 - loss: 0.6404\n",
            "Epoch 10/70\n",
            "\u001b[1m1/1\u001b[0m \u001b[32m━━━━━━━━━━━━━━━━━━━━\u001b[0m\u001b[37m\u001b[0m \u001b[1m0s\u001b[0m 58ms/step - accuracy: 0.5000 - loss: 0.6278\n",
            "Epoch 11/70\n",
            "\u001b[1m1/1\u001b[0m \u001b[32m━━━━━━━━━━━━━━━━━━━━\u001b[0m\u001b[37m\u001b[0m \u001b[1m0s\u001b[0m 56ms/step - accuracy: 0.5417 - loss: 0.6136\n",
            "Epoch 12/70\n",
            "\u001b[1m1/1\u001b[0m \u001b[32m━━━━━━━━━━━━━━━━━━━━\u001b[0m\u001b[37m\u001b[0m \u001b[1m0s\u001b[0m 58ms/step - accuracy: 0.5417 - loss: 0.5971\n",
            "Epoch 13/70\n",
            "\u001b[1m1/1\u001b[0m \u001b[32m━━━━━━━━━━━━━━━━━━━━\u001b[0m\u001b[37m\u001b[0m \u001b[1m0s\u001b[0m 68ms/step - accuracy: 0.5417 - loss: 0.5798\n",
            "Epoch 14/70\n",
            "\u001b[1m1/1\u001b[0m \u001b[32m━━━━━━━━━━━━━━━━━━━━\u001b[0m\u001b[37m\u001b[0m \u001b[1m0s\u001b[0m 69ms/step - accuracy: 0.5833 - loss: 0.5605\n",
            "Epoch 15/70\n",
            "\u001b[1m1/1\u001b[0m \u001b[32m━━━━━━━━━━━━━━━━━━━━\u001b[0m\u001b[37m\u001b[0m \u001b[1m0s\u001b[0m 71ms/step - accuracy: 0.6250 - loss: 0.5395\n",
            "Epoch 16/70\n",
            "\u001b[1m1/1\u001b[0m \u001b[32m━━━━━━━━━━━━━━━━━━━━\u001b[0m\u001b[37m\u001b[0m \u001b[1m0s\u001b[0m 128ms/step - accuracy: 0.7500 - loss: 0.5169\n",
            "Epoch 17/70\n",
            "\u001b[1m1/1\u001b[0m \u001b[32m━━━━━━━━━━━━━━━━━━━━\u001b[0m\u001b[37m\u001b[0m \u001b[1m0s\u001b[0m 56ms/step - accuracy: 0.7500 - loss: 0.4940\n",
            "Epoch 18/70\n",
            "\u001b[1m1/1\u001b[0m \u001b[32m━━━━━━━━━━━━━━━━━━━━\u001b[0m\u001b[37m\u001b[0m \u001b[1m0s\u001b[0m 72ms/step - accuracy: 0.8750 - loss: 0.4705\n",
            "Epoch 19/70\n",
            "\u001b[1m1/1\u001b[0m \u001b[32m━━━━━━━━━━━━━━━━━━━━\u001b[0m\u001b[37m\u001b[0m \u001b[1m0s\u001b[0m 69ms/step - accuracy: 0.9167 - loss: 0.4476\n",
            "Epoch 20/70\n",
            "\u001b[1m1/1\u001b[0m \u001b[32m━━━━━━━━━━━━━━━━━━━━\u001b[0m\u001b[37m\u001b[0m \u001b[1m0s\u001b[0m 133ms/step - accuracy: 0.9167 - loss: 0.4257\n",
            "Epoch 21/70\n",
            "\u001b[1m1/1\u001b[0m \u001b[32m━━━━━━━━━━━━━━━━━━━━\u001b[0m\u001b[37m\u001b[0m \u001b[1m0s\u001b[0m 55ms/step - accuracy: 0.9583 - loss: 0.4019\n",
            "Epoch 22/70\n",
            "\u001b[1m1/1\u001b[0m \u001b[32m━━━━━━━━━━━━━━━━━━━━\u001b[0m\u001b[37m\u001b[0m \u001b[1m0s\u001b[0m 57ms/step - accuracy: 0.9583 - loss: 0.3777\n",
            "Epoch 23/70\n",
            "\u001b[1m1/1\u001b[0m \u001b[32m━━━━━━━━━━━━━━━━━━━━\u001b[0m\u001b[37m\u001b[0m \u001b[1m0s\u001b[0m 56ms/step - accuracy: 0.9583 - loss: 0.3556\n",
            "Epoch 24/70\n",
            "\u001b[1m1/1\u001b[0m \u001b[32m━━━━━━━━━━━━━━━━━━━━\u001b[0m\u001b[37m\u001b[0m \u001b[1m0s\u001b[0m 62ms/step - accuracy: 1.0000 - loss: 0.3346\n",
            "Epoch 25/70\n",
            "\u001b[1m1/1\u001b[0m \u001b[32m━━━━━━━━━━━━━━━━━━━━\u001b[0m\u001b[37m\u001b[0m \u001b[1m0s\u001b[0m 58ms/step - accuracy: 1.0000 - loss: 0.3062\n",
            "Epoch 26/70\n",
            "\u001b[1m1/1\u001b[0m \u001b[32m━━━━━━━━━━━━━━━━━━━━\u001b[0m\u001b[37m\u001b[0m \u001b[1m0s\u001b[0m 72ms/step - accuracy: 1.0000 - loss: 0.2804\n",
            "Epoch 27/70\n",
            "\u001b[1m1/1\u001b[0m \u001b[32m━━━━━━━━━━━━━━━━━━━━\u001b[0m\u001b[37m\u001b[0m \u001b[1m0s\u001b[0m 137ms/step - accuracy: 1.0000 - loss: 0.2493\n",
            "Epoch 28/70\n",
            "\u001b[1m1/1\u001b[0m \u001b[32m━━━━━━━━━━━━━━━━━━━━\u001b[0m\u001b[37m\u001b[0m \u001b[1m0s\u001b[0m 69ms/step - accuracy: 1.0000 - loss: 0.2156\n",
            "Epoch 29/70\n",
            "\u001b[1m1/1\u001b[0m \u001b[32m━━━━━━━━━━━━━━━━━━━━\u001b[0m\u001b[37m\u001b[0m \u001b[1m0s\u001b[0m 141ms/step - accuracy: 1.0000 - loss: 0.1804\n",
            "Epoch 30/70\n",
            "\u001b[1m1/1\u001b[0m \u001b[32m━━━━━━━━━━━━━━━━━━━━\u001b[0m\u001b[37m\u001b[0m \u001b[1m0s\u001b[0m 131ms/step - accuracy: 1.0000 - loss: 0.1450\n",
            "Epoch 31/70\n",
            "\u001b[1m1/1\u001b[0m \u001b[32m━━━━━━━━━━━━━━━━━━━━\u001b[0m\u001b[37m\u001b[0m \u001b[1m0s\u001b[0m 71ms/step - accuracy: 1.0000 - loss: 0.1126\n",
            "Epoch 32/70\n",
            "\u001b[1m1/1\u001b[0m \u001b[32m━━━━━━━━━━━━━━━━━━━━\u001b[0m\u001b[37m\u001b[0m \u001b[1m0s\u001b[0m 137ms/step - accuracy: 1.0000 - loss: 0.0876\n",
            "Epoch 33/70\n",
            "\u001b[1m1/1\u001b[0m \u001b[32m━━━━━━━━━━━━━━━━━━━━\u001b[0m\u001b[37m\u001b[0m \u001b[1m0s\u001b[0m 66ms/step - accuracy: 1.0000 - loss: 0.0684\n",
            "Epoch 34/70\n",
            "\u001b[1m1/1\u001b[0m \u001b[32m━━━━━━━━━━━━━━━━━━━━\u001b[0m\u001b[37m\u001b[0m \u001b[1m0s\u001b[0m 161ms/step - accuracy: 1.0000 - loss: 0.0524\n",
            "Epoch 35/70\n",
            "\u001b[1m1/1\u001b[0m \u001b[32m━━━━━━━━━━━━━━━━━━━━\u001b[0m\u001b[37m\u001b[0m \u001b[1m0s\u001b[0m 96ms/step - accuracy: 1.0000 - loss: 0.0386\n",
            "Epoch 36/70\n",
            "\u001b[1m1/1\u001b[0m \u001b[32m━━━━━━━━━━━━━━━━━━━━\u001b[0m\u001b[37m\u001b[0m \u001b[1m0s\u001b[0m 117ms/step - accuracy: 1.0000 - loss: 0.0281\n",
            "Epoch 37/70\n",
            "\u001b[1m1/1\u001b[0m \u001b[32m━━━━━━━━━━━━━━━━━━━━\u001b[0m\u001b[37m\u001b[0m \u001b[1m0s\u001b[0m 140ms/step - accuracy: 1.0000 - loss: 0.0197\n",
            "Epoch 38/70\n",
            "\u001b[1m1/1\u001b[0m \u001b[32m━━━━━━━━━━━━━━━━━━━━\u001b[0m\u001b[37m\u001b[0m \u001b[1m0s\u001b[0m 128ms/step - accuracy: 1.0000 - loss: 0.0140\n",
            "Epoch 39/70\n",
            "\u001b[1m1/1\u001b[0m \u001b[32m━━━━━━━━━━━━━━━━━━━━\u001b[0m\u001b[37m\u001b[0m \u001b[1m0s\u001b[0m 58ms/step - accuracy: 1.0000 - loss: 0.0099\n",
            "Epoch 40/70\n",
            "\u001b[1m1/1\u001b[0m \u001b[32m━━━━━━━━━━━━━━━━━━━━\u001b[0m\u001b[37m\u001b[0m \u001b[1m0s\u001b[0m 59ms/step - accuracy: 1.0000 - loss: 0.0072\n",
            "Epoch 41/70\n",
            "\u001b[1m1/1\u001b[0m \u001b[32m━━━━━━━━━━━━━━━━━━━━\u001b[0m\u001b[37m\u001b[0m \u001b[1m0s\u001b[0m 140ms/step - accuracy: 1.0000 - loss: 0.0055\n",
            "Epoch 42/70\n",
            "\u001b[1m1/1\u001b[0m \u001b[32m━━━━━━━━━━━━━━━━━━━━\u001b[0m\u001b[37m\u001b[0m \u001b[1m0s\u001b[0m 63ms/step - accuracy: 1.0000 - loss: 0.0043\n",
            "Epoch 43/70\n",
            "\u001b[1m1/1\u001b[0m \u001b[32m━━━━━━━━━━━━━━━━━━━━\u001b[0m\u001b[37m\u001b[0m \u001b[1m0s\u001b[0m 59ms/step - accuracy: 1.0000 - loss: 0.0033\n",
            "Epoch 44/70\n",
            "\u001b[1m1/1\u001b[0m \u001b[32m━━━━━━━━━━━━━━━━━━━━\u001b[0m\u001b[37m\u001b[0m \u001b[1m0s\u001b[0m 144ms/step - accuracy: 1.0000 - loss: 0.0026\n",
            "Epoch 45/70\n",
            "\u001b[1m1/1\u001b[0m \u001b[32m━━━━━━━━━━━━━━━━━━━━\u001b[0m\u001b[37m\u001b[0m \u001b[1m0s\u001b[0m 73ms/step - accuracy: 1.0000 - loss: 0.0021\n",
            "Epoch 46/70\n",
            "\u001b[1m1/1\u001b[0m \u001b[32m━━━━━━━━━━━━━━━━━━━━\u001b[0m\u001b[37m\u001b[0m \u001b[1m0s\u001b[0m 60ms/step - accuracy: 1.0000 - loss: 0.0017\n",
            "Epoch 47/70\n",
            "\u001b[1m1/1\u001b[0m \u001b[32m━━━━━━━━━━━━━━━━━━━━\u001b[0m\u001b[37m\u001b[0m \u001b[1m0s\u001b[0m 62ms/step - accuracy: 1.0000 - loss: 0.0013\n",
            "Epoch 48/70\n",
            "\u001b[1m1/1\u001b[0m \u001b[32m━━━━━━━━━━━━━━━━━━━━\u001b[0m\u001b[37m\u001b[0m \u001b[1m0s\u001b[0m 134ms/step - accuracy: 1.0000 - loss: 0.0010\n",
            "Epoch 49/70\n",
            "\u001b[1m1/1\u001b[0m \u001b[32m━━━━━━━━━━━━━━━━━━━━\u001b[0m\u001b[37m\u001b[0m \u001b[1m0s\u001b[0m 82ms/step - accuracy: 1.0000 - loss: 8.1534e-04\n",
            "Epoch 50/70\n",
            "\u001b[1m1/1\u001b[0m \u001b[32m━━━━━━━━━━━━━━━━━━━━\u001b[0m\u001b[37m\u001b[0m \u001b[1m0s\u001b[0m 59ms/step - accuracy: 1.0000 - loss: 6.5303e-04\n",
            "Epoch 51/70\n",
            "\u001b[1m1/1\u001b[0m \u001b[32m━━━━━━━━━━━━━━━━━━━━\u001b[0m\u001b[37m\u001b[0m \u001b[1m0s\u001b[0m 140ms/step - accuracy: 1.0000 - loss: 5.2954e-04\n",
            "Epoch 52/70\n",
            "\u001b[1m1/1\u001b[0m \u001b[32m━━━━━━━━━━━━━━━━━━━━\u001b[0m\u001b[37m\u001b[0m \u001b[1m0s\u001b[0m 59ms/step - accuracy: 1.0000 - loss: 4.3315e-04\n",
            "Epoch 53/70\n",
            "\u001b[1m1/1\u001b[0m \u001b[32m━━━━━━━━━━━━━━━━━━━━\u001b[0m\u001b[37m\u001b[0m \u001b[1m0s\u001b[0m 56ms/step - accuracy: 1.0000 - loss: 3.5649e-04\n",
            "Epoch 54/70\n",
            "\u001b[1m1/1\u001b[0m \u001b[32m━━━━━━━━━━━━━━━━━━━━\u001b[0m\u001b[37m\u001b[0m \u001b[1m0s\u001b[0m 62ms/step - accuracy: 1.0000 - loss: 2.9618e-04\n",
            "Epoch 55/70\n",
            "\u001b[1m1/1\u001b[0m \u001b[32m━━━━━━━━━━━━━━━━━━━━\u001b[0m\u001b[37m\u001b[0m \u001b[1m0s\u001b[0m 78ms/step - accuracy: 1.0000 - loss: 2.5001e-04\n",
            "Epoch 56/70\n",
            "\u001b[1m1/1\u001b[0m \u001b[32m━━━━━━━━━━━━━━━━━━━━\u001b[0m\u001b[37m\u001b[0m \u001b[1m0s\u001b[0m 131ms/step - accuracy: 1.0000 - loss: 2.1349e-04\n",
            "Epoch 57/70\n",
            "\u001b[1m1/1\u001b[0m \u001b[32m━━━━━━━━━━━━━━━━━━━━\u001b[0m\u001b[37m\u001b[0m \u001b[1m0s\u001b[0m 59ms/step - accuracy: 1.0000 - loss: 1.8444e-04\n",
            "Epoch 58/70\n",
            "\u001b[1m1/1\u001b[0m \u001b[32m━━━━━━━━━━━━━━━━━━━━\u001b[0m\u001b[37m\u001b[0m \u001b[1m0s\u001b[0m 62ms/step - accuracy: 1.0000 - loss: 1.6225e-04\n",
            "Epoch 59/70\n",
            "\u001b[1m1/1\u001b[0m \u001b[32m━━━━━━━━━━━━━━━━━━━━\u001b[0m\u001b[37m\u001b[0m \u001b[1m0s\u001b[0m 60ms/step - accuracy: 1.0000 - loss: 1.4492e-04\n",
            "Epoch 60/70\n",
            "\u001b[1m1/1\u001b[0m \u001b[32m━━━━━━━━━━━━━━━━━━━━\u001b[0m\u001b[37m\u001b[0m \u001b[1m0s\u001b[0m 56ms/step - accuracy: 1.0000 - loss: 1.3090e-04\n",
            "Epoch 61/70\n",
            "\u001b[1m1/1\u001b[0m \u001b[32m━━━━━━━━━━━━━━━━━━━━\u001b[0m\u001b[37m\u001b[0m \u001b[1m0s\u001b[0m 60ms/step - accuracy: 1.0000 - loss: 1.1914e-04\n",
            "Epoch 62/70\n",
            "\u001b[1m1/1\u001b[0m \u001b[32m━━━━━━━━━━━━━━━━━━━━\u001b[0m\u001b[37m\u001b[0m \u001b[1m0s\u001b[0m 135ms/step - accuracy: 1.0000 - loss: 1.0900e-04\n",
            "Epoch 63/70\n",
            "\u001b[1m1/1\u001b[0m \u001b[32m━━━━━━━━━━━━━━━━━━━━\u001b[0m\u001b[37m\u001b[0m \u001b[1m0s\u001b[0m 58ms/step - accuracy: 1.0000 - loss: 1.0008e-04\n",
            "Epoch 64/70\n",
            "\u001b[1m1/1\u001b[0m \u001b[32m━━━━━━━━━━━━━━━━━━━━\u001b[0m\u001b[37m\u001b[0m \u001b[1m0s\u001b[0m 57ms/step - accuracy: 1.0000 - loss: 9.2213e-05\n",
            "Epoch 65/70\n",
            "\u001b[1m1/1\u001b[0m \u001b[32m━━━━━━━━━━━━━━━━━━━━\u001b[0m\u001b[37m\u001b[0m \u001b[1m0s\u001b[0m 57ms/step - accuracy: 1.0000 - loss: 8.5292e-05\n",
            "Epoch 66/70\n",
            "\u001b[1m1/1\u001b[0m \u001b[32m━━━━━━━━━━━━━━━━━━━━\u001b[0m\u001b[37m\u001b[0m \u001b[1m0s\u001b[0m 57ms/step - accuracy: 1.0000 - loss: 7.9259e-05\n",
            "Epoch 67/70\n",
            "\u001b[1m1/1\u001b[0m \u001b[32m━━━━━━━━━━━━━━━━━━━━\u001b[0m\u001b[37m\u001b[0m \u001b[1m0s\u001b[0m 58ms/step - accuracy: 1.0000 - loss: 7.4041e-05\n",
            "Epoch 68/70\n",
            "\u001b[1m1/1\u001b[0m \u001b[32m━━━━━━━━━━━━━━━━━━━━\u001b[0m\u001b[37m\u001b[0m \u001b[1m0s\u001b[0m 73ms/step - accuracy: 1.0000 - loss: 6.9572e-05\n",
            "Epoch 69/70\n",
            "\u001b[1m1/1\u001b[0m \u001b[32m━━━━━━━━━━━━━━━━━━━━\u001b[0m\u001b[37m\u001b[0m \u001b[1m0s\u001b[0m 135ms/step - accuracy: 1.0000 - loss: 6.5788e-05\n",
            "Epoch 70/70\n",
            "\u001b[1m1/1\u001b[0m \u001b[32m━━━━━━━━━━━━━━━━━━━━\u001b[0m\u001b[37m\u001b[0m \u001b[1m0s\u001b[0m 126ms/step - accuracy: 1.0000 - loss: 6.2561e-05\n"
          ]
        },
        {
          "output_type": "display_data",
          "data": {
            "text/plain": [
              "\u001b[1mModel: \"sequential\"\u001b[0m\n"
            ],
            "text/html": [
              "<pre style=\"white-space:pre;overflow-x:auto;line-height:normal;font-family:Menlo,'DejaVu Sans Mono',consolas,'Courier New',monospace\"><span style=\"font-weight: bold\">Model: \"sequential\"</span>\n",
              "</pre>\n"
            ]
          },
          "metadata": {}
        },
        {
          "output_type": "display_data",
          "data": {
            "text/plain": [
              "┏━━━━━━━━━━━━━━━━━━━━━━━━━━━━━━━━━━━━━━┳━━━━━━━━━━━━━━━━━━━━━━━━━━━━━┳━━━━━━━━━━━━━━━━━┓\n",
              "┃\u001b[1m \u001b[0m\u001b[1mLayer (type)                        \u001b[0m\u001b[1m \u001b[0m┃\u001b[1m \u001b[0m\u001b[1mOutput Shape               \u001b[0m\u001b[1m \u001b[0m┃\u001b[1m \u001b[0m\u001b[1m        Param #\u001b[0m\u001b[1m \u001b[0m┃\n",
              "┡━━━━━━━━━━━━━━━━━━━━━━━━━━━━━━━━━━━━━━╇━━━━━━━━━━━━━━━━━━━━━━━━━━━━━╇━━━━━━━━━━━━━━━━━┩\n",
              "│ conv2d (\u001b[38;5;33mConv2D\u001b[0m)                      │ (\u001b[38;5;45mNone\u001b[0m, \u001b[38;5;34m26\u001b[0m, \u001b[38;5;34m26\u001b[0m, \u001b[38;5;34m64\u001b[0m)          │             \u001b[38;5;34m640\u001b[0m │\n",
              "├──────────────────────────────────────┼─────────────────────────────┼─────────────────┤\n",
              "│ max_pooling2d (\u001b[38;5;33mMaxPooling2D\u001b[0m)         │ (\u001b[38;5;45mNone\u001b[0m, \u001b[38;5;34m13\u001b[0m, \u001b[38;5;34m13\u001b[0m, \u001b[38;5;34m64\u001b[0m)          │               \u001b[38;5;34m0\u001b[0m │\n",
              "├──────────────────────────────────────┼─────────────────────────────┼─────────────────┤\n",
              "│ conv2d_1 (\u001b[38;5;33mConv2D\u001b[0m)                    │ (\u001b[38;5;45mNone\u001b[0m, \u001b[38;5;34m11\u001b[0m, \u001b[38;5;34m11\u001b[0m, \u001b[38;5;34m64\u001b[0m)          │          \u001b[38;5;34m36,928\u001b[0m │\n",
              "├──────────────────────────────────────┼─────────────────────────────┼─────────────────┤\n",
              "│ max_pooling2d_1 (\u001b[38;5;33mMaxPooling2D\u001b[0m)       │ (\u001b[38;5;45mNone\u001b[0m, \u001b[38;5;34m5\u001b[0m, \u001b[38;5;34m5\u001b[0m, \u001b[38;5;34m64\u001b[0m)            │               \u001b[38;5;34m0\u001b[0m │\n",
              "├──────────────────────────────────────┼─────────────────────────────┼─────────────────┤\n",
              "│ flatten (\u001b[38;5;33mFlatten\u001b[0m)                    │ (\u001b[38;5;45mNone\u001b[0m, \u001b[38;5;34m1600\u001b[0m)                │               \u001b[38;5;34m0\u001b[0m │\n",
              "├──────────────────────────────────────┼─────────────────────────────┼─────────────────┤\n",
              "│ dense (\u001b[38;5;33mDense\u001b[0m)                        │ (\u001b[38;5;45mNone\u001b[0m, \u001b[38;5;34m12\u001b[0m)                  │          \u001b[38;5;34m19,212\u001b[0m │\n",
              "├──────────────────────────────────────┼─────────────────────────────┼─────────────────┤\n",
              "│ dense_1 (\u001b[38;5;33mDense\u001b[0m)                      │ (\u001b[38;5;45mNone\u001b[0m, \u001b[38;5;34m128\u001b[0m)                 │           \u001b[38;5;34m1,664\u001b[0m │\n",
              "├──────────────────────────────────────┼─────────────────────────────┼─────────────────┤\n",
              "│ dense_2 (\u001b[38;5;33mDense\u001b[0m)                      │ (\u001b[38;5;45mNone\u001b[0m, \u001b[38;5;34m2\u001b[0m)                   │             \u001b[38;5;34m258\u001b[0m │\n",
              "└──────────────────────────────────────┴─────────────────────────────┴─────────────────┘\n"
            ],
            "text/html": [
              "<pre style=\"white-space:pre;overflow-x:auto;line-height:normal;font-family:Menlo,'DejaVu Sans Mono',consolas,'Courier New',monospace\">┏━━━━━━━━━━━━━━━━━━━━━━━━━━━━━━━━━━━━━━┳━━━━━━━━━━━━━━━━━━━━━━━━━━━━━┳━━━━━━━━━━━━━━━━━┓\n",
              "┃<span style=\"font-weight: bold\"> Layer (type)                         </span>┃<span style=\"font-weight: bold\"> Output Shape                </span>┃<span style=\"font-weight: bold\">         Param # </span>┃\n",
              "┡━━━━━━━━━━━━━━━━━━━━━━━━━━━━━━━━━━━━━━╇━━━━━━━━━━━━━━━━━━━━━━━━━━━━━╇━━━━━━━━━━━━━━━━━┩\n",
              "│ conv2d (<span style=\"color: #0087ff; text-decoration-color: #0087ff\">Conv2D</span>)                      │ (<span style=\"color: #00d7ff; text-decoration-color: #00d7ff\">None</span>, <span style=\"color: #00af00; text-decoration-color: #00af00\">26</span>, <span style=\"color: #00af00; text-decoration-color: #00af00\">26</span>, <span style=\"color: #00af00; text-decoration-color: #00af00\">64</span>)          │             <span style=\"color: #00af00; text-decoration-color: #00af00\">640</span> │\n",
              "├──────────────────────────────────────┼─────────────────────────────┼─────────────────┤\n",
              "│ max_pooling2d (<span style=\"color: #0087ff; text-decoration-color: #0087ff\">MaxPooling2D</span>)         │ (<span style=\"color: #00d7ff; text-decoration-color: #00d7ff\">None</span>, <span style=\"color: #00af00; text-decoration-color: #00af00\">13</span>, <span style=\"color: #00af00; text-decoration-color: #00af00\">13</span>, <span style=\"color: #00af00; text-decoration-color: #00af00\">64</span>)          │               <span style=\"color: #00af00; text-decoration-color: #00af00\">0</span> │\n",
              "├──────────────────────────────────────┼─────────────────────────────┼─────────────────┤\n",
              "│ conv2d_1 (<span style=\"color: #0087ff; text-decoration-color: #0087ff\">Conv2D</span>)                    │ (<span style=\"color: #00d7ff; text-decoration-color: #00d7ff\">None</span>, <span style=\"color: #00af00; text-decoration-color: #00af00\">11</span>, <span style=\"color: #00af00; text-decoration-color: #00af00\">11</span>, <span style=\"color: #00af00; text-decoration-color: #00af00\">64</span>)          │          <span style=\"color: #00af00; text-decoration-color: #00af00\">36,928</span> │\n",
              "├──────────────────────────────────────┼─────────────────────────────┼─────────────────┤\n",
              "│ max_pooling2d_1 (<span style=\"color: #0087ff; text-decoration-color: #0087ff\">MaxPooling2D</span>)       │ (<span style=\"color: #00d7ff; text-decoration-color: #00d7ff\">None</span>, <span style=\"color: #00af00; text-decoration-color: #00af00\">5</span>, <span style=\"color: #00af00; text-decoration-color: #00af00\">5</span>, <span style=\"color: #00af00; text-decoration-color: #00af00\">64</span>)            │               <span style=\"color: #00af00; text-decoration-color: #00af00\">0</span> │\n",
              "├──────────────────────────────────────┼─────────────────────────────┼─────────────────┤\n",
              "│ flatten (<span style=\"color: #0087ff; text-decoration-color: #0087ff\">Flatten</span>)                    │ (<span style=\"color: #00d7ff; text-decoration-color: #00d7ff\">None</span>, <span style=\"color: #00af00; text-decoration-color: #00af00\">1600</span>)                │               <span style=\"color: #00af00; text-decoration-color: #00af00\">0</span> │\n",
              "├──────────────────────────────────────┼─────────────────────────────┼─────────────────┤\n",
              "│ dense (<span style=\"color: #0087ff; text-decoration-color: #0087ff\">Dense</span>)                        │ (<span style=\"color: #00d7ff; text-decoration-color: #00d7ff\">None</span>, <span style=\"color: #00af00; text-decoration-color: #00af00\">12</span>)                  │          <span style=\"color: #00af00; text-decoration-color: #00af00\">19,212</span> │\n",
              "├──────────────────────────────────────┼─────────────────────────────┼─────────────────┤\n",
              "│ dense_1 (<span style=\"color: #0087ff; text-decoration-color: #0087ff\">Dense</span>)                      │ (<span style=\"color: #00d7ff; text-decoration-color: #00d7ff\">None</span>, <span style=\"color: #00af00; text-decoration-color: #00af00\">128</span>)                 │           <span style=\"color: #00af00; text-decoration-color: #00af00\">1,664</span> │\n",
              "├──────────────────────────────────────┼─────────────────────────────┼─────────────────┤\n",
              "│ dense_2 (<span style=\"color: #0087ff; text-decoration-color: #0087ff\">Dense</span>)                      │ (<span style=\"color: #00d7ff; text-decoration-color: #00d7ff\">None</span>, <span style=\"color: #00af00; text-decoration-color: #00af00\">2</span>)                   │             <span style=\"color: #00af00; text-decoration-color: #00af00\">258</span> │\n",
              "└──────────────────────────────────────┴─────────────────────────────┴─────────────────┘\n",
              "</pre>\n"
            ]
          },
          "metadata": {}
        },
        {
          "output_type": "display_data",
          "data": {
            "text/plain": [
              "\u001b[1m Total params: \u001b[0m\u001b[38;5;34m176,108\u001b[0m (687.93 KB)\n"
            ],
            "text/html": [
              "<pre style=\"white-space:pre;overflow-x:auto;line-height:normal;font-family:Menlo,'DejaVu Sans Mono',consolas,'Courier New',monospace\"><span style=\"font-weight: bold\"> Total params: </span><span style=\"color: #00af00; text-decoration-color: #00af00\">176,108</span> (687.93 KB)\n",
              "</pre>\n"
            ]
          },
          "metadata": {}
        },
        {
          "output_type": "display_data",
          "data": {
            "text/plain": [
              "\u001b[1m Trainable params: \u001b[0m\u001b[38;5;34m58,702\u001b[0m (229.30 KB)\n"
            ],
            "text/html": [
              "<pre style=\"white-space:pre;overflow-x:auto;line-height:normal;font-family:Menlo,'DejaVu Sans Mono',consolas,'Courier New',monospace\"><span style=\"font-weight: bold\"> Trainable params: </span><span style=\"color: #00af00; text-decoration-color: #00af00\">58,702</span> (229.30 KB)\n",
              "</pre>\n"
            ]
          },
          "metadata": {}
        },
        {
          "output_type": "display_data",
          "data": {
            "text/plain": [
              "\u001b[1m Non-trainable params: \u001b[0m\u001b[38;5;34m0\u001b[0m (0.00 B)\n"
            ],
            "text/html": [
              "<pre style=\"white-space:pre;overflow-x:auto;line-height:normal;font-family:Menlo,'DejaVu Sans Mono',consolas,'Courier New',monospace\"><span style=\"font-weight: bold\"> Non-trainable params: </span><span style=\"color: #00af00; text-decoration-color: #00af00\">0</span> (0.00 B)\n",
              "</pre>\n"
            ]
          },
          "metadata": {}
        },
        {
          "output_type": "display_data",
          "data": {
            "text/plain": [
              "\u001b[1m Optimizer params: \u001b[0m\u001b[38;5;34m117,406\u001b[0m (458.62 KB)\n"
            ],
            "text/html": [
              "<pre style=\"white-space:pre;overflow-x:auto;line-height:normal;font-family:Menlo,'DejaVu Sans Mono',consolas,'Courier New',monospace\"><span style=\"font-weight: bold\"> Optimizer params: </span><span style=\"color: #00af00; text-decoration-color: #00af00\">117,406</span> (458.62 KB)\n",
              "</pre>\n"
            ]
          },
          "metadata": {}
        },
        {
          "output_type": "stream",
          "name": "stdout",
          "text": [
            "\n",
            "MODEL EVALUATION:\n",
            "test set accuracy: 0.9166666865348816\n",
            "test set loss: 0.14231379330158234\n"
          ]
        }
      ]
    },
    {
      "cell_type": "code",
      "source": [],
      "metadata": {
        "id": "MlUJYYRzkRPz"
      },
      "execution_count": null,
      "outputs": []
    },
    {
      "cell_type": "code",
      "source": [
        "model.evaluate(test_images, test_labels)"
      ],
      "metadata": {
        "colab": {
          "base_uri": "https://localhost:8080/"
        },
        "id": "hIGeLCaeU5G6",
        "outputId": "e28039eb-0119-47c3-de5e-b839a350520b"
      },
      "execution_count": 9,
      "outputs": [
        {
          "output_type": "stream",
          "name": "stdout",
          "text": [
            "\u001b[1m1/1\u001b[0m \u001b[32m━━━━━━━━━━━━━━━━━━━━\u001b[0m\u001b[37m\u001b[0m \u001b[1m0s\u001b[0m 28ms/step - accuracy: 0.9167 - loss: 0.1423\n"
          ]
        },
        {
          "output_type": "execute_result",
          "data": {
            "text/plain": [
              "[0.14231379330158234, 0.9166666865348816]"
            ]
          },
          "metadata": {},
          "execution_count": 9
        }
      ]
    },
    {
      "cell_type": "code",
      "source": [
        "classifications = model.predict(test_images)\n",
        "\n",
        "print(classifications[1])"
      ],
      "metadata": {
        "colab": {
          "base_uri": "https://localhost:8080/"
        },
        "id": "LEbXaLuWVOB7",
        "outputId": "93fd0625-c4d7-48d8-b269-ca5655762245"
      },
      "execution_count": 10,
      "outputs": [
        {
          "output_type": "stream",
          "name": "stdout",
          "text": [
            "\u001b[1m1/1\u001b[0m \u001b[32m━━━━━━━━━━━━━━━━━━━━\u001b[0m\u001b[37m\u001b[0m \u001b[1m0s\u001b[0m 99ms/step\n",
            "[9.9999994e-01 2.7111355e-08]\n"
          ]
        }
      ]
    },
    {
      "cell_type": "code",
      "source": [
        "print(test_labels[1])"
      ],
      "metadata": {
        "colab": {
          "base_uri": "https://localhost:8080/"
        },
        "id": "1ICO5_3TU80i",
        "outputId": "e5670bb5-ef6b-4d94-c898-1fbe01d5cf3f"
      },
      "execution_count": 11,
      "outputs": [
        {
          "output_type": "stream",
          "name": "stdout",
          "text": [
            "0\n"
          ]
        }
      ]
    },
    {
      "cell_type": "code",
      "source": [
        "import numpy as np\n",
        "import matplotlib.pyplot as plt\n",
        "\n",
        "def show_image_and_prediction(model, test_images, test_labels, index):\n",
        "    # Get the image and label\n",
        "    image = test_images[index]\n",
        "    true_label = test_labels[index]\n",
        "\n",
        "    # Predict the label for the given image\n",
        "    predictions = model.predict(np.expand_dims(image, axis=0))  # Add batch dimension\n",
        "    predicted_label = np.argmax(predictions[0])\n",
        "\n",
        "    # Set up the plot: 1 row, 2 columns\n",
        "    fig, (ax1, ax2) = plt.subplots(1, 2, figsize=(10, 5))\n",
        "\n",
        "    # Plot the image with the true and predicted labels\n",
        "    ax1.imshow(image, cmap='gray')  # If grayscale\n",
        "    ax1.set_title(f\"True: {true_label}, Predicted: {predicted_label}\")\n",
        "    ax1.axis('off')  # Hide axis\n",
        "\n",
        "    # Plot the prediction probabilities as a bar chart\n",
        "    ax2.bar(range(len(predictions[0])), predictions[0])\n",
        "    ax2.set_xticks(range(len(predictions[0])))\n",
        "    ax2.set_title('Prediction Probabilities')\n",
        "    ax2.set_xlabel('Class Index')\n",
        "    ax2.set_ylabel('Probability')\n",
        "\n",
        "    # Highlight the predicted class in red and the true class in green\n",
        "    ax2.bar(predicted_label, predictions[0][predicted_label], color='red')  # Predicted\n",
        "    ax2.bar(true_label, predictions[0][true_label], color='green')  # True\n",
        "\n",
        "    plt.show()\n",
        "\n",
        "# Example usage:\n",
        "# show_image_and_prediction(trained_model, test_images, test_labels, index=0)\n"
      ],
      "metadata": {
        "id": "VRPK9mN9mCsR"
      },
      "execution_count": 12,
      "outputs": []
    },
    {
      "cell_type": "code",
      "source": [
        "show_image_and_prediction(model, test_images, test_labels, 11)"
      ],
      "metadata": {
        "colab": {
          "base_uri": "https://localhost:8080/",
          "height": 504
        },
        "id": "taWk4KktmJT-",
        "outputId": "58b21887-07e8-4700-ef39-83719a283321"
      },
      "execution_count": 25,
      "outputs": [
        {
          "output_type": "stream",
          "name": "stdout",
          "text": [
            "\u001b[1m1/1\u001b[0m \u001b[32m━━━━━━━━━━━━━━━━━━━━\u001b[0m\u001b[37m\u001b[0m \u001b[1m0s\u001b[0m 28ms/step\n"
          ]
        },
        {
          "output_type": "display_data",
          "data": {
            "text/plain": [
              "<Figure size 1000x500 with 2 Axes>"
            ],
            "image/png": "[encoded data removed]"
          },
          "metadata": {}
        }
      ]
    },
    {
      "cell_type": "code",
      "source": [
        "FIRST_IMAGE=0\n",
        "SECOND_IMAGE=9\n",
        "THIRD_IMAGE=8\n",
        "CONVOLUTION_NUMBER = 1\n",
        "layers_to_visualize = [tf.keras.layers.Conv2D, tf.keras.layers.MaxPooling2D]\n",
        "\n",
        "layer_outputs = [layer.output for layer in model.layers if type(layer) in layers_to_visualize]\n",
        "activation_model = tf.keras.models.Model(inputs = model.inputs, outputs=layer_outputs)\n",
        "\n",
        "f, axarr = plt.subplots(3,len(layer_outputs))\n",
        "\n",
        "for x in range(len(layer_outputs)):\n",
        "    f1 = activation_model.predict(test_images[FIRST_IMAGE].reshape(1, 28, 28, 1), verbose=False)[x]\n",
        "    axarr[0,x].imshow(f1[0, :, :, CONVOLUTION_NUMBER], cmap='inferno')\n",
        "    axarr[0,x].grid(False)\n",
        "\n",
        "    f2 = activation_model.predict(test_images[SECOND_IMAGE].reshape(1, 28, 28, 1), verbose=False)[x]\n",
        "    axarr[1,x].imshow(f2[0, :, :, CONVOLUTION_NUMBER], cmap='inferno')\n",
        "    axarr[1,x].grid(False)\n",
        "\n",
        "    f3 = activation_model.predict(test_images[THIRD_IMAGE].reshape(1, 28, 28, 1), verbose=False)[x]\n",
        "    axarr[2,x].imshow(f3[0, :, :, CONVOLUTION_NUMBER], cmap='inferno')\n",
        "    axarr[2,x].grid(False)"
      ],
      "metadata": {
        "colab": {
          "base_uri": "https://localhost:8080/",
          "height": 432
        },
        "id": "iXpXuJaF5Wrh",
        "outputId": "a07e53fb-00ba-4432-bdbf-f8a6afb4381b"
      },
      "execution_count": 28,
      "outputs": [
        {
          "output_type": "display_data",
          "data": {
            "text/plain": [
              "<Figure size 640x480 with 12 Axes>"
            ],
            "image/png": "[encoded data removed]"
          },
          "metadata": {}
        }
      ]
    }
  ]
}